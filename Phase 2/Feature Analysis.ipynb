{
 "cells": [
  {
   "cell_type": "code",
   "execution_count": 2,
   "id": "52e81e10",
   "metadata": {},
   "outputs": [],
   "source": [
    "import pandas as pd\n",
    "import numpy as np\n",
    "import plotly.express as px\n",
    "import plotly.graph_objects as go\n",
    "import scipy.stats\n",
    "import plotly.figure_factory as ff\n",
    "import seaborn as sns\n",
    "from scipy.stats import f_oneway\n",
    "from scipy.stats import chi2_contingency\n",
    "import matplotlib.pyplot as plt\n",
    "from sklearn.preprocessing import MinMaxScaler"
   ]
  },
  {
   "cell_type": "code",
   "execution_count": 3,
   "id": "88232b32",
   "metadata": {},
   "outputs": [
    {
     "data": {
      "text/html": [
       "<div>\n",
       "<style scoped>\n",
       "    .dataframe tbody tr th:only-of-type {\n",
       "        vertical-align: middle;\n",
       "    }\n",
       "\n",
       "    .dataframe tbody tr th {\n",
       "        vertical-align: top;\n",
       "    }\n",
       "\n",
       "    .dataframe thead th {\n",
       "        text-align: right;\n",
       "    }\n",
       "</style>\n",
       "<table border=\"1\" class=\"dataframe\">\n",
       "  <thead>\n",
       "    <tr style=\"text-align: right;\">\n",
       "      <th></th>\n",
       "      <th>hotel</th>\n",
       "      <th>is_canceled</th>\n",
       "      <th>lead_time</th>\n",
       "      <th>arrival_date_year</th>\n",
       "      <th>arrival_date_month</th>\n",
       "      <th>arrival_date_week_number</th>\n",
       "      <th>arrival_date_day_of_month</th>\n",
       "      <th>stays_in_weekend_nights</th>\n",
       "      <th>stays_in_week_nights</th>\n",
       "      <th>adults</th>\n",
       "      <th>...</th>\n",
       "      <th>deposit_type</th>\n",
       "      <th>agent</th>\n",
       "      <th>company</th>\n",
       "      <th>days_in_waiting_list</th>\n",
       "      <th>customer_type</th>\n",
       "      <th>adr</th>\n",
       "      <th>required_car_parking_spaces</th>\n",
       "      <th>total_of_special_requests</th>\n",
       "      <th>reservation_status</th>\n",
       "      <th>reservation_status_date</th>\n",
       "    </tr>\n",
       "  </thead>\n",
       "  <tbody>\n",
       "    <tr>\n",
       "      <th>0</th>\n",
       "      <td>Resort Hotel</td>\n",
       "      <td>0</td>\n",
       "      <td>342</td>\n",
       "      <td>2015</td>\n",
       "      <td>July</td>\n",
       "      <td>27</td>\n",
       "      <td>1</td>\n",
       "      <td>0</td>\n",
       "      <td>0</td>\n",
       "      <td>2</td>\n",
       "      <td>...</td>\n",
       "      <td>No Deposit</td>\n",
       "      <td>NaN</td>\n",
       "      <td>NaN</td>\n",
       "      <td>0</td>\n",
       "      <td>Transient</td>\n",
       "      <td>0.0</td>\n",
       "      <td>0</td>\n",
       "      <td>0</td>\n",
       "      <td>Check-Out</td>\n",
       "      <td>01/07/2015</td>\n",
       "    </tr>\n",
       "    <tr>\n",
       "      <th>1</th>\n",
       "      <td>Resort Hotel</td>\n",
       "      <td>0</td>\n",
       "      <td>737</td>\n",
       "      <td>2015</td>\n",
       "      <td>July</td>\n",
       "      <td>27</td>\n",
       "      <td>1</td>\n",
       "      <td>0</td>\n",
       "      <td>0</td>\n",
       "      <td>2</td>\n",
       "      <td>...</td>\n",
       "      <td>No Deposit</td>\n",
       "      <td>NaN</td>\n",
       "      <td>NaN</td>\n",
       "      <td>0</td>\n",
       "      <td>Transient</td>\n",
       "      <td>0.0</td>\n",
       "      <td>0</td>\n",
       "      <td>0</td>\n",
       "      <td>Check-Out</td>\n",
       "      <td>01/07/2015</td>\n",
       "    </tr>\n",
       "    <tr>\n",
       "      <th>2</th>\n",
       "      <td>Resort Hotel</td>\n",
       "      <td>0</td>\n",
       "      <td>7</td>\n",
       "      <td>2015</td>\n",
       "      <td>July</td>\n",
       "      <td>27</td>\n",
       "      <td>1</td>\n",
       "      <td>0</td>\n",
       "      <td>1</td>\n",
       "      <td>1</td>\n",
       "      <td>...</td>\n",
       "      <td>No Deposit</td>\n",
       "      <td>NaN</td>\n",
       "      <td>NaN</td>\n",
       "      <td>0</td>\n",
       "      <td>Transient</td>\n",
       "      <td>75.0</td>\n",
       "      <td>0</td>\n",
       "      <td>0</td>\n",
       "      <td>Check-Out</td>\n",
       "      <td>02/07/2015</td>\n",
       "    </tr>\n",
       "    <tr>\n",
       "      <th>3</th>\n",
       "      <td>Resort Hotel</td>\n",
       "      <td>0</td>\n",
       "      <td>13</td>\n",
       "      <td>2015</td>\n",
       "      <td>July</td>\n",
       "      <td>27</td>\n",
       "      <td>1</td>\n",
       "      <td>0</td>\n",
       "      <td>1</td>\n",
       "      <td>1</td>\n",
       "      <td>...</td>\n",
       "      <td>No Deposit</td>\n",
       "      <td>304.0</td>\n",
       "      <td>NaN</td>\n",
       "      <td>0</td>\n",
       "      <td>Transient</td>\n",
       "      <td>75.0</td>\n",
       "      <td>0</td>\n",
       "      <td>0</td>\n",
       "      <td>Check-Out</td>\n",
       "      <td>02/07/2015</td>\n",
       "    </tr>\n",
       "    <tr>\n",
       "      <th>4</th>\n",
       "      <td>Resort Hotel</td>\n",
       "      <td>0</td>\n",
       "      <td>14</td>\n",
       "      <td>2015</td>\n",
       "      <td>July</td>\n",
       "      <td>27</td>\n",
       "      <td>1</td>\n",
       "      <td>0</td>\n",
       "      <td>2</td>\n",
       "      <td>2</td>\n",
       "      <td>...</td>\n",
       "      <td>No Deposit</td>\n",
       "      <td>240.0</td>\n",
       "      <td>NaN</td>\n",
       "      <td>0</td>\n",
       "      <td>Transient</td>\n",
       "      <td>98.0</td>\n",
       "      <td>0</td>\n",
       "      <td>1</td>\n",
       "      <td>Check-Out</td>\n",
       "      <td>03/07/2015</td>\n",
       "    </tr>\n",
       "  </tbody>\n",
       "</table>\n",
       "<p>5 rows × 32 columns</p>\n",
       "</div>"
      ],
      "text/plain": [
       "          hotel  is_canceled  lead_time  arrival_date_year arrival_date_month  \\\n",
       "0  Resort Hotel            0        342               2015               July   \n",
       "1  Resort Hotel            0        737               2015               July   \n",
       "2  Resort Hotel            0          7               2015               July   \n",
       "3  Resort Hotel            0         13               2015               July   \n",
       "4  Resort Hotel            0         14               2015               July   \n",
       "\n",
       "   arrival_date_week_number  arrival_date_day_of_month  \\\n",
       "0                        27                          1   \n",
       "1                        27                          1   \n",
       "2                        27                          1   \n",
       "3                        27                          1   \n",
       "4                        27                          1   \n",
       "\n",
       "   stays_in_weekend_nights  stays_in_week_nights  adults  ...  deposit_type  \\\n",
       "0                        0                     0       2  ...    No Deposit   \n",
       "1                        0                     0       2  ...    No Deposit   \n",
       "2                        0                     1       1  ...    No Deposit   \n",
       "3                        0                     1       1  ...    No Deposit   \n",
       "4                        0                     2       2  ...    No Deposit   \n",
       "\n",
       "   agent company days_in_waiting_list customer_type   adr  \\\n",
       "0    NaN     NaN                    0     Transient   0.0   \n",
       "1    NaN     NaN                    0     Transient   0.0   \n",
       "2    NaN     NaN                    0     Transient  75.0   \n",
       "3  304.0     NaN                    0     Transient  75.0   \n",
       "4  240.0     NaN                    0     Transient  98.0   \n",
       "\n",
       "   required_car_parking_spaces  total_of_special_requests  reservation_status  \\\n",
       "0                            0                          0           Check-Out   \n",
       "1                            0                          0           Check-Out   \n",
       "2                            0                          0           Check-Out   \n",
       "3                            0                          0           Check-Out   \n",
       "4                            0                          1           Check-Out   \n",
       "\n",
       "  reservation_status_date  \n",
       "0              01/07/2015  \n",
       "1              01/07/2015  \n",
       "2              02/07/2015  \n",
       "3              02/07/2015  \n",
       "4              03/07/2015  \n",
       "\n",
       "[5 rows x 32 columns]"
      ]
     },
     "execution_count": 3,
     "metadata": {},
     "output_type": "execute_result"
    }
   ],
   "source": [
    "df=pd.read_csv(\"hotel_bookings.csv\")\n",
    "df.head()"
   ]
  },
  {
   "cell_type": "code",
   "execution_count": 6,
   "id": "10d73732",
   "metadata": {},
   "outputs": [
    {
     "data": {
      "text/plain": [
       "Index(['hotel', 'is_canceled', 'lead_time', 'arrival_date_year',\n",
       "       'arrival_date_month', 'arrival_date_week_number',\n",
       "       'arrival_date_day_of_month', 'stays_in_weekend_nights',\n",
       "       'stays_in_week_nights', 'adults', 'children', 'babies', 'meal',\n",
       "       'country', 'market_segment', 'distribution_channel',\n",
       "       'is_repeated_guest', 'previous_cancellations',\n",
       "       'previous_bookings_not_canceled', 'reserved_room_type',\n",
       "       'assigned_room_type', 'booking_changes', 'deposit_type', 'agent',\n",
       "       'company', 'days_in_waiting_list', 'customer_type', 'adr',\n",
       "       'required_car_parking_spaces', 'total_of_special_requests',\n",
       "       'reservation_status', 'reservation_status_date'],\n",
       "      dtype='object')"
      ]
     },
     "execution_count": 6,
     "metadata": {},
     "output_type": "execute_result"
    }
   ],
   "source": [
    "df.columns"
   ]
  },
  {
   "cell_type": "code",
   "execution_count": 24,
   "id": "a150cc03",
   "metadata": {},
   "outputs": [
    {
     "data": {
      "text/plain": [
       "is_canceled                       1.000000\n",
       "lead_time                         0.293123\n",
       "arrival_date_year                 0.016660\n",
       "arrival_date_week_number          0.008148\n",
       "arrival_date_day_of_month        -0.006130\n",
       "stays_in_weekend_nights          -0.001791\n",
       "stays_in_week_nights              0.024765\n",
       "adults                            0.060017\n",
       "children                          0.005048\n",
       "babies                           -0.032491\n",
       "is_repeated_guest                -0.084793\n",
       "previous_cancellations            0.110133\n",
       "previous_bookings_not_canceled   -0.057358\n",
       "booking_changes                  -0.144381\n",
       "agent                            -0.083114\n",
       "company                          -0.020642\n",
       "days_in_waiting_list              0.054186\n",
       "adr                               0.047557\n",
       "required_car_parking_spaces      -0.195498\n",
       "total_of_special_requests        -0.234658\n",
       "Name: is_canceled, dtype: float64"
      ]
     },
     "execution_count": 24,
     "metadata": {},
     "output_type": "execute_result"
    }
   ],
   "source": [
    "corr= df.corr(method='pearson')['is_canceled'][:]\n",
    "corr"
   ]
  },
  {
   "cell_type": "markdown",
   "id": "e8ec0869",
   "metadata": {},
   "source": [
    "# Hotel"
   ]
  },
  {
   "cell_type": "code",
   "execution_count": 13,
   "id": "ced51c9e",
   "metadata": {},
   "outputs": [
    {
     "data": {
      "text/plain": [
       "0"
      ]
     },
     "execution_count": 13,
     "metadata": {},
     "output_type": "execute_result"
    }
   ],
   "source": [
    "df['hotel'].isnull().sum()"
   ]
  },
  {
   "cell_type": "code",
   "execution_count": 14,
   "id": "2a79fb45",
   "metadata": {},
   "outputs": [
    {
     "data": {
      "text/plain": [
       "City Hotel      79330\n",
       "Resort Hotel    40060\n",
       "Name: hotel, dtype: int64"
      ]
     },
     "execution_count": 14,
     "metadata": {},
     "output_type": "execute_result"
    }
   ],
   "source": [
    " df['hotel'].value_counts()"
   ]
  },
  {
   "cell_type": "code",
   "execution_count": 15,
   "id": "c7b3fe65",
   "metadata": {},
   "outputs": [
    {
     "data": {
      "image/png": "[encoded data removed]",
      "text/plain": [
       "<Figure size 640x480 with 1 Axes>"
      ]
     },
     "metadata": {},
     "output_type": "display_data"
    }
   ],
   "source": [
    "sns.countplot(x='hotel', data=df)\n",
    "plt.title('Distribution of Hotels')\n",
    "plt.show()\n"
   ]
  },
  {
   "cell_type": "code",
   "execution_count": 16,
   "id": "3c2a34a5",
   "metadata": {},
   "outputs": [
    {
     "name": "stdout",
     "output_type": "stream",
     "text": [
      "hotel\n",
      "City Hotel      0.417270\n",
      "Resort Hotel    0.277634\n",
      "Name: is_canceled, dtype: float64\n"
     ]
    }
   ],
   "source": [
    "cancellation_rate_by_hotel = df.groupby('hotel')['is_canceled'].mean()\n",
    "print(cancellation_rate_by_hotel)\n"
   ]
  },
  {
   "cell_type": "code",
   "execution_count": 19,
   "id": "4b788584",
   "metadata": {},
   "outputs": [
    {
     "name": "stdout",
     "output_type": "stream",
     "text": [
      "Observed Contingency Table:\n",
      "hotel        City Hotel  Resort Hotel\n",
      "is_canceled                          \n",
      "0                 46228         28938\n",
      "1                 33102         11122\n",
      "\n",
      "Chi-squared Test Statistics:\n",
      "Chi2: 2224.924903923313\n",
      "P-value: 0.0\n",
      "Degrees of Freedom: 1\n",
      "\n",
      "Expected Frequencies:\n",
      "[[49944.8762878 25221.1237122]\n",
      " [29385.1237122 14838.8762878]]\n"
     ]
    }
   ],
   "source": [
    "observed_table = pd.crosstab(df['is_canceled'], df['hotel'])\n",
    "\n",
    "# Display the observed contingency table\n",
    "print(\"Observed Contingency Table:\")\n",
    "print(observed_table)\n",
    "\n",
    "# Perform the chi-squared test\n",
    "chi2, p, dof, expected = chi2_contingency(observed_table)\n",
    "\n",
    "# Display the results\n",
    "print(\"\\nChi-squared Test Statistics:\")\n",
    "print(f\"Chi2: {chi2}\")\n",
    "print(f\"P-value: {p}\")\n",
    "print(f\"Degrees of Freedom: {dof}\")\n",
    "print(\"\\nExpected Frequencies:\")\n",
    "print(expected) "
   ]
  },
  {
   "cell_type": "markdown",
   "id": "77db5f86",
   "metadata": {},
   "source": [
    "# Lead time"
   ]
  },
  {
   "cell_type": "code",
   "execution_count": 23,
   "id": "6ecdfef4",
   "metadata": {},
   "outputs": [
    {
     "data": {
      "text/plain": [
       "0"
      ]
     },
     "execution_count": 23,
     "metadata": {},
     "output_type": "execute_result"
    }
   ],
   "source": [
    "df['lead_time'].isnull().sum()"
   ]
  },
  {
   "cell_type": "code",
   "execution_count": 20,
   "id": "68887d03",
   "metadata": {},
   "outputs": [
    {
     "name": "stdout",
     "output_type": "stream",
     "text": [
      "count    119390.000000\n",
      "mean        104.011416\n",
      "std         106.863097\n",
      "min           0.000000\n",
      "25%          18.000000\n",
      "50%          69.000000\n",
      "75%         160.000000\n",
      "max         737.000000\n",
      "Name: lead_time, dtype: float64\n"
     ]
    }
   ],
   "source": [
    "print(df['lead_time'].describe())\n"
   ]
  },
  {
   "cell_type": "code",
   "execution_count": 21,
   "id": "21d317b1",
   "metadata": {},
   "outputs": [
    {
     "data": {
      "image/png": "[encoded data removed]",
      "text/plain": [
       "<Figure size 640x480 with 1 Axes>"
      ]
     },
     "metadata": {},
     "output_type": "display_data"
    }
   ],
   "source": [
    "sns.histplot(df['lead_time'], kde=True)\n",
    "plt.title('Lead Time Distribution')\n",
    "plt.show()\n"
   ]
  },
  {
   "cell_type": "code",
   "execution_count": 22,
   "id": "0787e216",
   "metadata": {},
   "outputs": [
    {
     "data": {
      "text/html": [
       "<div>\n",
       "<style scoped>\n",
       "    .dataframe tbody tr th:only-of-type {\n",
       "        vertical-align: middle;\n",
       "    }\n",
       "\n",
       "    .dataframe tbody tr th {\n",
       "        vertical-align: top;\n",
       "    }\n",
       "\n",
       "    .dataframe thead th {\n",
       "        text-align: right;\n",
       "    }\n",
       "</style>\n",
       "<table border=\"1\" class=\"dataframe\">\n",
       "  <thead>\n",
       "    <tr style=\"text-align: right;\">\n",
       "      <th>is_canceled</th>\n",
       "      <th>0</th>\n",
       "      <th>1</th>\n",
       "    </tr>\n",
       "    <tr>\n",
       "      <th>lead_time_month</th>\n",
       "      <th></th>\n",
       "      <th></th>\n",
       "    </tr>\n",
       "  </thead>\n",
       "  <tbody>\n",
       "    <tr>\n",
       "      <th>0</th>\n",
       "      <td>81.754146</td>\n",
       "      <td>18.245854</td>\n",
       "    </tr>\n",
       "    <tr>\n",
       "      <th>1</th>\n",
       "      <td>63.659629</td>\n",
       "      <td>36.340371</td>\n",
       "    </tr>\n",
       "    <tr>\n",
       "      <th>2</th>\n",
       "      <td>60.262455</td>\n",
       "      <td>39.737545</td>\n",
       "    </tr>\n",
       "    <tr>\n",
       "      <th>3</th>\n",
       "      <td>55.961814</td>\n",
       "      <td>44.038186</td>\n",
       "    </tr>\n",
       "    <tr>\n",
       "      <th>4</th>\n",
       "      <td>56.403270</td>\n",
       "      <td>43.596730</td>\n",
       "    </tr>\n",
       "    <tr>\n",
       "      <th>5</th>\n",
       "      <td>53.797548</td>\n",
       "      <td>46.202452</td>\n",
       "    </tr>\n",
       "    <tr>\n",
       "      <th>6</th>\n",
       "      <td>55.274188</td>\n",
       "      <td>44.725812</td>\n",
       "    </tr>\n",
       "    <tr>\n",
       "      <th>7</th>\n",
       "      <td>53.078508</td>\n",
       "      <td>46.921492</td>\n",
       "    </tr>\n",
       "    <tr>\n",
       "      <th>8</th>\n",
       "      <td>44.854651</td>\n",
       "      <td>55.145349</td>\n",
       "    </tr>\n",
       "    <tr>\n",
       "      <th>9</th>\n",
       "      <td>36.176385</td>\n",
       "      <td>63.823615</td>\n",
       "    </tr>\n",
       "    <tr>\n",
       "      <th>10</th>\n",
       "      <td>30.651620</td>\n",
       "      <td>69.348380</td>\n",
       "    </tr>\n",
       "    <tr>\n",
       "      <th>11</th>\n",
       "      <td>29.441341</td>\n",
       "      <td>70.558659</td>\n",
       "    </tr>\n",
       "    <tr>\n",
       "      <th>12</th>\n",
       "      <td>42.126789</td>\n",
       "      <td>57.873211</td>\n",
       "    </tr>\n",
       "    <tr>\n",
       "      <th>13</th>\n",
       "      <td>37.500000</td>\n",
       "      <td>62.500000</td>\n",
       "    </tr>\n",
       "    <tr>\n",
       "      <th>14</th>\n",
       "      <td>27.255639</td>\n",
       "      <td>72.744361</td>\n",
       "    </tr>\n",
       "    <tr>\n",
       "      <th>15</th>\n",
       "      <td>35.159011</td>\n",
       "      <td>64.840989</td>\n",
       "    </tr>\n",
       "    <tr>\n",
       "      <th>16</th>\n",
       "      <td>17.073171</td>\n",
       "      <td>82.926829</td>\n",
       "    </tr>\n",
       "    <tr>\n",
       "      <th>17</th>\n",
       "      <td>18.852459</td>\n",
       "      <td>81.147541</td>\n",
       "    </tr>\n",
       "    <tr>\n",
       "      <th>18</th>\n",
       "      <td>25.274725</td>\n",
       "      <td>74.725275</td>\n",
       "    </tr>\n",
       "    <tr>\n",
       "      <th>19</th>\n",
       "      <td>NaN</td>\n",
       "      <td>100.000000</td>\n",
       "    </tr>\n",
       "    <tr>\n",
       "      <th>20</th>\n",
       "      <td>NaN</td>\n",
       "      <td>100.000000</td>\n",
       "    </tr>\n",
       "    <tr>\n",
       "      <th>23</th>\n",
       "      <td>100.000000</td>\n",
       "      <td>NaN</td>\n",
       "    </tr>\n",
       "    <tr>\n",
       "      <th>24</th>\n",
       "      <td>100.000000</td>\n",
       "      <td>NaN</td>\n",
       "    </tr>\n",
       "  </tbody>\n",
       "</table>\n",
       "</div>"
      ],
      "text/plain": [
       "is_canceled               0           1\n",
       "lead_time_month                        \n",
       "0                 81.754146   18.245854\n",
       "1                 63.659629   36.340371\n",
       "2                 60.262455   39.737545\n",
       "3                 55.961814   44.038186\n",
       "4                 56.403270   43.596730\n",
       "5                 53.797548   46.202452\n",
       "6                 55.274188   44.725812\n",
       "7                 53.078508   46.921492\n",
       "8                 44.854651   55.145349\n",
       "9                 36.176385   63.823615\n",
       "10                30.651620   69.348380\n",
       "11                29.441341   70.558659\n",
       "12                42.126789   57.873211\n",
       "13                37.500000   62.500000\n",
       "14                27.255639   72.744361\n",
       "15                35.159011   64.840989\n",
       "16                17.073171   82.926829\n",
       "17                18.852459   81.147541\n",
       "18                25.274725   74.725275\n",
       "19                      NaN  100.000000\n",
       "20                      NaN  100.000000\n",
       "23               100.000000         NaN\n",
       "24               100.000000         NaN"
      ]
     },
     "execution_count": 22,
     "metadata": {},
     "output_type": "execute_result"
    }
   ],
   "source": [
    "df_lead_time = df.copy()\n",
    "df_lead_time['lead_time_month'] = df_lead_time['lead_time'] // 30 #converting lead time (days) to months\n",
    "df_lead_time = df_lead_time.groupby(['lead_time_month','is_canceled']).agg({'hotel':'count'}).reset_index() #number of bookings canceled or not in each hotels according to each lead time\n",
    "df_lead_time = df_lead_time.rename(columns={'hotel':'total'})\n",
    "df_lead_time['total_guests'] = df_lead_time.groupby(['lead_time_month'])['total'].transform('sum')\n",
    "df_lead_time['cancel_percentage'] = (df_lead_time['total'] / df_lead_time['total_guests']) * 100\n",
    "df_lead_time = df_lead_time.sort_values('cancel_percentage', ascending=False)\n",
    "df_lead_time.pivot_table(index='lead_time_month', columns=\"is_canceled\", values=\"cancel_percentage\")"
   ]
  },
  {
   "cell_type": "markdown",
   "id": "46b93531",
   "metadata": {},
   "source": [
    "# Arrival Date Year"
   ]
  },
  {
   "cell_type": "code",
   "execution_count": 28,
   "id": "14d0906b",
   "metadata": {},
   "outputs": [
    {
     "data": {
      "text/plain": [
       "0"
      ]
     },
     "execution_count": 28,
     "metadata": {},
     "output_type": "execute_result"
    }
   ],
   "source": [
    "df['arrival_date_year'].isnull().sum()"
   ]
  },
  {
   "cell_type": "code",
   "execution_count": 25,
   "id": "f6700656",
   "metadata": {},
   "outputs": [
    {
     "data": {
      "text/plain": [
       "2016    56707\n",
       "2017    40687\n",
       "2015    21996\n",
       "Name: arrival_date_year, dtype: int64"
      ]
     },
     "execution_count": 25,
     "metadata": {},
     "output_type": "execute_result"
    }
   ],
   "source": [
    "arrival_year_counts = df['arrival_date_year'].value_counts()\n",
    "arrival_year_counts"
   ]
  },
  {
   "cell_type": "code",
   "execution_count": 27,
   "id": "401078c2",
   "metadata": {},
   "outputs": [
    {
     "data": {
      "image/png": "[encoded data removed]",
      "text/plain": [
       "<Figure size 640x480 with 1 Axes>"
      ]
     },
     "metadata": {},
     "output_type": "display_data"
    }
   ],
   "source": [
    "sns.kdeplot(data=df, x='arrival_date_year', fill=True)\n",
    "plt.title('Kernel Density Distribution of Arrival Years')\n",
    "plt.xlabel('Arrival Year')\n",
    "plt.ylabel('Density')\n",
    "plt.show()"
   ]
  },
  {
   "cell_type": "code",
   "execution_count": 31,
   "id": "fa4629ca",
   "metadata": {},
   "outputs": [
    {
     "data": {
      "text/plain": [
       "arrival_date_year\n",
       "2015    0.370158\n",
       "2016    0.358633\n",
       "2017    0.386979\n",
       "Name: is_canceled, dtype: float64"
      ]
     },
     "execution_count": 31,
     "metadata": {},
     "output_type": "execute_result"
    }
   ],
   "source": [
    "cancellation_rate_by_year = df.groupby('arrival_date_year')['is_canceled'].mean()\n",
    "cancellation_rate_by_year"
   ]
  },
  {
   "cell_type": "markdown",
   "id": "41beb4f8",
   "metadata": {},
   "source": [
    "# Arrival Date Month"
   ]
  },
  {
   "cell_type": "code",
   "execution_count": 32,
   "id": "7c52b752",
   "metadata": {},
   "outputs": [
    {
     "data": {
      "text/plain": [
       "0"
      ]
     },
     "execution_count": 32,
     "metadata": {},
     "output_type": "execute_result"
    }
   ],
   "source": [
    "df['arrival_date_month'].isnull().sum()"
   ]
  },
  {
   "cell_type": "code",
   "execution_count": 34,
   "id": "97dbbbf8",
   "metadata": {},
   "outputs": [
    {
     "data": {
      "text/plain": [
       "August       13877\n",
       "July         12661\n",
       "May          11791\n",
       "October      11160\n",
       "April        11089\n",
       "June         10939\n",
       "September    10508\n",
       "March         9794\n",
       "February      8068\n",
       "November      6794\n",
       "December      6780\n",
       "January       5929\n",
       "Name: arrival_date_month, dtype: int64"
      ]
     },
     "execution_count": 34,
     "metadata": {},
     "output_type": "execute_result"
    }
   ],
   "source": [
    "arrival_month_counts = df['arrival_date_month'].value_counts()\n",
    "arrival_month_counts"
   ]
  },
  {
   "cell_type": "code",
   "execution_count": 35,
   "id": "dffd0d1a",
   "metadata": {},
   "outputs": [
    {
     "name": "stdout",
     "output_type": "stream",
     "text": [
      "Summer    37477\n",
      "Spring    32674\n",
      "Autumn    28462\n",
      "Winter    20777\n",
      "Name: arrival_date_month, dtype: int64\n"
     ]
    }
   ],
   "source": [
    "month_to_season = {\n",
    "    'January': 'Winter', 'February': 'Winter', 'March': 'Spring',\n",
    "    'April': 'Spring', 'May': 'Spring', 'June': 'Summer',\n",
    "    'July': 'Summer', 'August': 'Summer', 'September': 'Autumn',\n",
    "    'October': 'Autumn', 'November': 'Autumn', 'December': 'Winter'\n",
    "}\n",
    "\n",
    "# Map the months to seasons and then group by season\n",
    "season_counts = df['arrival_date_month'].map(month_to_season).value_counts()\n",
    "\n",
    "print(season_counts)"
   ]
  },
  {
   "cell_type": "code",
   "execution_count": 36,
   "id": "30d01819",
   "metadata": {},
   "outputs": [
    {
     "name": "stdout",
     "output_type": "stream",
     "text": [
      "Observed Contingency Table:\n",
      "is_canceled            0     1\n",
      "arrival_date_month            \n",
      "April               6565  4524\n",
      "August              8638  5239\n",
      "December            4409  2371\n",
      "February            5372  2696\n",
      "January             4122  1807\n",
      "July                7919  4742\n",
      "June                6404  4535\n",
      "March               6645  3149\n",
      "May                 7114  4677\n",
      "November            4672  2122\n",
      "October             6914  4246\n",
      "September           6392  4116\n",
      "\n",
      "Chi-squared Test Statistics:\n",
      "Chi2: 588.6917536476619\n",
      "P-value: 3.671822609327152e-119\n",
      "Degrees of Freedom: 11\n",
      "\n",
      "Expected Frequencies:\n",
      "[[6981.45384036 4107.54615964]\n",
      " [8736.73324399 5140.26675601]\n",
      " [4268.57760281 2511.42239719]\n",
      " [5079.48143061 2988.51856939]\n",
      " [3732.80185945 2196.19814055]\n",
      " [7971.15944384 4689.84055616]\n",
      " [6887.01628277 4051.98371723]\n",
      " [6166.14292654 3627.85707346]\n",
      " [7423.42160985 4367.57839015]\n",
      " [4277.39177486 2516.60822514]\n",
      " [7026.15428428 4133.84571572]\n",
      " [6615.66570064 3892.33429936]]\n"
     ]
    }
   ],
   "source": [
    "contingency_table = pd.crosstab(df['arrival_date_month'], df['is_canceled'])\n",
    "\n",
    "# Display the observed contingency table\n",
    "print(\"Observed Contingency Table:\")\n",
    "print(contingency_table)\n",
    "\n",
    "# Perform the chi-squared test\n",
    "chi2, p, dof, expected = chi2_contingency(contingency_table)\n",
    "\n",
    "# Display the results\n",
    "print(\"\\nChi-squared Test Statistics:\")\n",
    "print(f\"Chi2: {chi2}\")\n",
    "print(f\"P-value: {p}\")\n",
    "print(f\"Degrees of Freedom: {dof}\")\n",
    "print(\"\\nExpected Frequencies:\")\n",
    "print(expected)"
   ]
  },
  {
   "cell_type": "code",
   "execution_count": 39,
   "id": "0d258207",
   "metadata": {},
   "outputs": [
    {
     "name": "stdout",
     "output_type": "stream",
     "text": [
      "                                percentage\n",
      "arrival_date_month is_canceled            \n",
      "April              0             59.202814\n",
      "                   1             40.797186\n",
      "August             0             62.246883\n",
      "                   1             37.753117\n",
      "December           0             65.029499\n",
      "                   1             34.970501\n",
      "February           0             66.584036\n",
      "                   1             33.415964\n",
      "January            0             69.522685\n",
      "                   1             30.477315\n",
      "July               0             62.546402\n",
      "                   1             37.453598\n",
      "June               0             58.542828\n",
      "                   1             41.457172\n",
      "March              0             67.847662\n",
      "                   1             32.152338\n",
      "May                0             60.334153\n",
      "                   1             39.665847\n",
      "November           0             68.766559\n",
      "                   1             31.233441\n",
      "October            0             61.953405\n",
      "                   1             38.046595\n",
      "September          0             60.829844\n",
      "                   1             39.170156\n"
     ]
    }
   ],
   "source": [
    "cancel_month = df.groupby(['arrival_date_month', 'is_canceled']).size().to_frame(name='percentage')\n",
    "cancel_percentage = cancel_month.groupby(level=0).apply(lambda x:100 * x / float(x.sum()))\n",
    "print(cancel_percentage)\n"
   ]
  },
  {
   "cell_type": "markdown",
   "id": "3fc8e999",
   "metadata": {},
   "source": [
    "# Week Number & Day of The Month"
   ]
  },
  {
   "cell_type": "code",
   "execution_count": 40,
   "id": "2aad3d8b",
   "metadata": {},
   "outputs": [
    {
     "data": {
      "text/plain": [
       "0"
      ]
     },
     "execution_count": 40,
     "metadata": {},
     "output_type": "execute_result"
    }
   ],
   "source": [
    "df['arrival_date_week_number'].isnull().sum()"
   ]
  },
  {
   "cell_type": "code",
   "execution_count": 41,
   "id": "80c324a1",
   "metadata": {},
   "outputs": [
    {
     "data": {
      "text/plain": [
       "0"
      ]
     },
     "execution_count": 41,
     "metadata": {},
     "output_type": "execute_result"
    }
   ],
   "source": [
    "df['arrival_date_day_of_month'].isnull().sum()"
   ]
  },
  {
   "cell_type": "code",
   "execution_count": 43,
   "id": "6ba21808",
   "metadata": {},
   "outputs": [
    {
     "data": {
      "text/plain": [
       "[Text(0, 0, 'No'), Text(1, 0, 'Yes')]"
      ]
     },
     "execution_count": 43,
     "metadata": {},
     "output_type": "execute_result"
    },
    {
     "data": {
      "image/png": "[encoded data removed]",
      "text/plain": [
       "<Figure size 500x500 with 1 Axes>"
      ]
     },
     "metadata": {},
     "output_type": "display_data"
    }
   ],
   "source": [
    "plt.figure(figsize=(5, 5))\n",
    "fig=sns.boxplot(x='is_canceled', y='arrival_date_week_number', data=df, palette='pastel')\n",
    "plt.ylabel('Week number of arrival date', fontsize=12)\n",
    "plt.xlabel('Is Canceled', fontsize=12)\n",
    "fig.set_xticklabels(['No', 'Yes'])"
   ]
  },
  {
   "cell_type": "code",
   "execution_count": 44,
   "id": "9a622770",
   "metadata": {},
   "outputs": [
    {
     "data": {
      "text/plain": [
       "[Text(0, 0, 'No'), Text(1, 0, 'Yes')]"
      ]
     },
     "execution_count": 44,
     "metadata": {},
     "output_type": "execute_result"
    },
    {
     "data": {
      "image/png": "[encoded data removed]",
      "text/plain": [
       "<Figure size 500x500 with 1 Axes>"
      ]
     },
     "metadata": {},
     "output_type": "display_data"
    }
   ],
   "source": [
    "plt.figure(figsize=(5, 5))\n",
    "fig=sns.boxplot(x='is_canceled', y='arrival_date_day_of_month', data=df, palette='pastel')\n",
    "plt.ylabel('Week number of arrival date', fontsize=12)\n",
    "plt.xlabel('Is Canceled', fontsize=12)\n",
    "fig.set_xticklabels(['No', 'Yes'])"
   ]
  },
  {
   "cell_type": "markdown",
   "id": "831c9432",
   "metadata": {},
   "source": [
    "# Stays in Weekends & Weeknights"
   ]
  },
  {
   "cell_type": "code",
   "execution_count": 49,
   "id": "b9c9ceff",
   "metadata": {},
   "outputs": [
    {
     "data": {
      "text/plain": [
       "0"
      ]
     },
     "execution_count": 49,
     "metadata": {},
     "output_type": "execute_result"
    }
   ],
   "source": [
    "df['stays_in_weekend_nights'].isnull().sum()"
   ]
  },
  {
   "cell_type": "code",
   "execution_count": 50,
   "id": "99d6cf66",
   "metadata": {},
   "outputs": [
    {
     "data": {
      "text/plain": [
       "0"
      ]
     },
     "execution_count": 50,
     "metadata": {},
     "output_type": "execute_result"
    }
   ],
   "source": [
    "df['stays_in_week_nights'].isnull().sum()"
   ]
  },
  {
   "cell_type": "code",
   "execution_count": 45,
   "id": "8796c1d8",
   "metadata": {},
   "outputs": [
    {
     "data": {
      "text/plain": [
       "-0.0017910780782638134"
      ]
     },
     "execution_count": 45,
     "metadata": {},
     "output_type": "execute_result"
    }
   ],
   "source": [
    "df.corr(method='pearson')[\"stays_in_weekend_nights\"][\"is_canceled\"]"
   ]
  },
  {
   "cell_type": "code",
   "execution_count": 46,
   "id": "ce4ae1e8",
   "metadata": {},
   "outputs": [
    {
     "data": {
      "text/plain": [
       "0.024764629045870484"
      ]
     },
     "execution_count": 46,
     "metadata": {},
     "output_type": "execute_result"
    }
   ],
   "source": [
    "df.corr(method='pearson')[\"stays_in_week_nights\"][\"is_canceled\"]"
   ]
  },
  {
   "cell_type": "code",
   "execution_count": 51,
   "id": "fc7bc95d",
   "metadata": {},
   "outputs": [
    {
     "data": {
      "text/plain": [
       "0.4989688184955315"
      ]
     },
     "execution_count": 51,
     "metadata": {},
     "output_type": "execute_result"
    }
   ],
   "source": [
    "df.corr(method='pearson')[\"stays_in_week_nights\"][\"stays_in_weekend_nights\"]"
   ]
  },
  {
   "cell_type": "code",
   "execution_count": 47,
   "id": "f371baea",
   "metadata": {},
   "outputs": [
    {
     "data": {
      "text/plain": [
       "Text(0.5, 0, 'Is Canceled')"
      ]
     },
     "execution_count": 47,
     "metadata": {},
     "output_type": "execute_result"
    },
    {
     "data": {
      "image/png": "[encoded data removed]",
      "text/plain": [
       "<Figure size 500x500 with 1 Axes>"
      ]
     },
     "metadata": {},
     "output_type": "display_data"
    }
   ],
   "source": [
    "plt.figure(figsize=(5, 5))\n",
    "fig=sns.boxplot(x=\"is_canceled\", y=\"stays_in_weekend_nights\",data=df, palette='pastel')\n",
    "plt.ylabel('Stays during weekend', fontsize=12)\n",
    "plt.xlabel('Is Canceled', fontsize=12)\n"
   ]
  },
  {
   "cell_type": "code",
   "execution_count": 48,
   "id": "99215f59",
   "metadata": {},
   "outputs": [
    {
     "data": {
      "text/plain": [
       "Text(0.5, 0, 'Is Canceled')"
      ]
     },
     "execution_count": 48,
     "metadata": {},
     "output_type": "execute_result"
    },
    {
     "data": {
      "image/png": "[encoded data removed]",
      "text/plain": [
       "<Figure size 500x500 with 1 Axes>"
      ]
     },
     "metadata": {},
     "output_type": "display_data"
    }
   ],
   "source": [
    "plt.figure(figsize=(5, 5))\n",
    "fig=sns.boxplot(x=\"is_canceled\", y=\"stays_in_week_nights\",data=df, palette='pastel')\n",
    "plt.ylabel('Stays during week nights', fontsize=12)\n",
    "plt.xlabel('Is Canceled', fontsize=12)"
   ]
  },
  {
   "cell_type": "markdown",
   "id": "1afc189b",
   "metadata": {},
   "source": [
    "# Adults"
   ]
  },
  {
   "cell_type": "code",
   "execution_count": 52,
   "id": "ec95153d",
   "metadata": {},
   "outputs": [
    {
     "data": {
      "text/plain": [
       "0"
      ]
     },
     "execution_count": 52,
     "metadata": {},
     "output_type": "execute_result"
    }
   ],
   "source": [
    "df['adults'].isnull().sum()"
   ]
  },
  {
   "cell_type": "code",
   "execution_count": 53,
   "id": "8aedb1c6",
   "metadata": {},
   "outputs": [
    {
     "data": {
      "text/plain": [
       "2     89680\n",
       "1     23027\n",
       "3      6202\n",
       "0       403\n",
       "4        62\n",
       "26        5\n",
       "27        2\n",
       "20        2\n",
       "5         2\n",
       "40        1\n",
       "50        1\n",
       "55        1\n",
       "6         1\n",
       "10        1\n",
       "Name: adults, dtype: int64"
      ]
     },
     "execution_count": 53,
     "metadata": {},
     "output_type": "execute_result"
    }
   ],
   "source": [
    "df[\"adults\"].value_counts()"
   ]
  },
  {
   "cell_type": "code",
   "execution_count": 54,
   "id": "2b099a97",
   "metadata": {},
   "outputs": [
    {
     "name": "stderr",
     "output_type": "stream",
     "text": [
      "C:\\Users\\youss\\anaconda3\\lib\\site-packages\\seaborn\\distributions.py:2619: FutureWarning: `distplot` is a deprecated function and will be removed in a future version. Please adapt your code to use either `displot` (a figure-level function with similar flexibility) or `histplot` (an axes-level function for histograms).\n",
      "  warnings.warn(msg, FutureWarning)\n"
     ]
    },
    {
     "data": {
      "text/plain": [
       "<AxesSubplot:xlabel='adults', ylabel='Density'>"
      ]
     },
     "execution_count": 54,
     "metadata": {},
     "output_type": "execute_result"
    },
    {
     "data": {
      "image/png": "[encoded data removed]",
      "text/plain": [
       "<Figure size 640x480 with 1 Axes>"
      ]
     },
     "metadata": {},
     "output_type": "display_data"
    }
   ],
   "source": [
    "sns.distplot(df[\"adults\"])"
   ]
  },
  {
   "cell_type": "code",
   "execution_count": 55,
   "id": "2c719405",
   "metadata": {},
   "outputs": [
    {
     "name": "stdout",
     "output_type": "stream",
     "text": [
      "                         count\n",
      "adults is_canceled            \n",
      "0      0             72.952854\n",
      "       1             27.047146\n",
      "1      0             71.016633\n",
      "       1             28.983367\n",
      "2      0             60.684657\n",
      "       1             39.315343\n",
      "3      0             65.317639\n",
      "       1             34.682361\n",
      "4      0             74.193548\n",
      "       1             25.806452\n",
      "5      1            100.000000\n",
      "6      1            100.000000\n",
      "10     1            100.000000\n",
      "20     1            100.000000\n",
      "26     1            100.000000\n",
      "27     1            100.000000\n",
      "40     1            100.000000\n",
      "50     1            100.000000\n",
      "55     1            100.000000\n"
     ]
    }
   ],
   "source": [
    "cancel_year = df.groupby(['adults', 'is_canceled']).size().to_frame(name='count')\n",
    "cancel_percentage = cancel_year.groupby(level=0).apply(lambda x:100 * x / float(x.sum()))\n",
    "print(cancel_percentage)\n"
   ]
  },
  {
   "cell_type": "markdown",
   "id": "c9b5a31e",
   "metadata": {},
   "source": [
    "# Children & Babies"
   ]
  },
  {
   "cell_type": "code",
   "execution_count": 56,
   "id": "685f222e",
   "metadata": {},
   "outputs": [
    {
     "data": {
      "text/plain": [
       "4"
      ]
     },
     "execution_count": 56,
     "metadata": {},
     "output_type": "execute_result"
    }
   ],
   "source": [
    "df[\"children\"].isnull().sum()"
   ]
  },
  {
   "cell_type": "code",
   "execution_count": 57,
   "id": "b2f4b514",
   "metadata": {},
   "outputs": [
    {
     "data": {
      "text/plain": [
       "0"
      ]
     },
     "execution_count": 57,
     "metadata": {},
     "output_type": "execute_result"
    }
   ],
   "source": [
    "df[\"babies\"].isnull().sum()"
   ]
  },
  {
   "cell_type": "code",
   "execution_count": 58,
   "id": "8c41250a",
   "metadata": {},
   "outputs": [
    {
     "data": {
      "text/plain": [
       "0.0     110796\n",
       "1.0       4861\n",
       "2.0       3652\n",
       "3.0         76\n",
       "10.0         1\n",
       "Name: children, dtype: int64"
      ]
     },
     "execution_count": 58,
     "metadata": {},
     "output_type": "execute_result"
    }
   ],
   "source": [
    "df[\"children\"].value_counts()"
   ]
  },
  {
   "cell_type": "code",
   "execution_count": 59,
   "id": "0caa77c8",
   "metadata": {},
   "outputs": [
    {
     "data": {
      "text/plain": [
       "0     118473\n",
       "1        900\n",
       "2         15\n",
       "10         1\n",
       "9          1\n",
       "Name: babies, dtype: int64"
      ]
     },
     "execution_count": 59,
     "metadata": {},
     "output_type": "execute_result"
    }
   ],
   "source": [
    "df[\"babies\"].value_counts()"
   ]
  },
  {
   "cell_type": "code",
   "execution_count": 61,
   "id": "d3b4d867",
   "metadata": {},
   "outputs": [
    {
     "data": {
      "text/plain": [
       "[Text(0, 0, 'No'), Text(1, 0, 'Yes')]"
      ]
     },
     "execution_count": 61,
     "metadata": {},
     "output_type": "execute_result"
    },
    {
     "data": {
      "image/png": "[encoded data removed]",
      "text/plain": [
       "<Figure size 500x500 with 1 Axes>"
      ]
     },
     "metadata": {},
     "output_type": "display_data"
    }
   ],
   "source": [
    "plt.figure(figsize=(5, 5))\n",
    "fig=sns.boxplot(x='is_canceled', y='children', data=df, palette='pastel')\n",
    "plt.ylabel('Children', fontsize=12)\n",
    "plt.xlabel('Is Canceled', fontsize=12)\n",
    "fig.set_xticklabels(['No', 'Yes'])"
   ]
  },
  {
   "cell_type": "code",
   "execution_count": 62,
   "id": "d23e7077",
   "metadata": {},
   "outputs": [
    {
     "data": {
      "text/plain": [
       "[Text(0, 0, 'No'), Text(1, 0, 'Yes')]"
      ]
     },
     "execution_count": 62,
     "metadata": {},
     "output_type": "execute_result"
    },
    {
     "data": {
      "image/png": "[encoded data removed]",
      "text/plain": [
       "<Figure size 500x500 with 1 Axes>"
      ]
     },
     "metadata": {},
     "output_type": "display_data"
    }
   ],
   "source": [
    "plt.figure(figsize=(5, 5))\n",
    "fig=sns.boxplot(x='is_canceled', y='babies', data=df, palette='pastel')\n",
    "plt.ylabel('Babies', fontsize=12)\n",
    "plt.xlabel('Is Canceled', fontsize=12)\n",
    "fig.set_xticklabels(['No', 'Yes'])"
   ]
  },
  {
   "cell_type": "markdown",
   "id": "2a280405",
   "metadata": {},
   "source": [
    "# Meal Type"
   ]
  },
  {
   "cell_type": "code",
   "execution_count": 63,
   "id": "051d4264",
   "metadata": {},
   "outputs": [
    {
     "data": {
      "text/plain": [
       "0"
      ]
     },
     "execution_count": 63,
     "metadata": {},
     "output_type": "execute_result"
    }
   ],
   "source": [
    "df[\"meal\"].isnull().sum()"
   ]
  },
  {
   "cell_type": "code",
   "execution_count": 64,
   "id": "70104860",
   "metadata": {},
   "outputs": [
    {
     "data": {
      "text/plain": [
       "BB           92310\n",
       "HB           14463\n",
       "SC           10650\n",
       "Undefined     1169\n",
       "FB             798\n",
       "Name: meal, dtype: int64"
      ]
     },
     "execution_count": 64,
     "metadata": {},
     "output_type": "execute_result"
    }
   ],
   "source": [
    "df[\"meal\"].value_counts()"
   ]
  },
  {
   "cell_type": "code",
   "execution_count": 65,
   "id": "9cebc3f1",
   "metadata": {},
   "outputs": [
    {
     "name": "stdout",
     "output_type": "stream",
     "text": [
      "Observed Contingency Table:\n",
      "is_canceled      0      1\n",
      "meal                     \n",
      "BB           57800  34510\n",
      "FB             320    478\n",
      "HB            9479   4984\n",
      "SC            6684   3966\n",
      "Undefined      883    286\n",
      "\n",
      "Chi-squared Test Statistics:\n",
      "Chi2: 304.23617668200444\n",
      "P-value: 1.3212351959124216e-64\n",
      "Degrees of Freedom: 4\n",
      "\n",
      "Expected Frequencies:\n",
      "[[58116.87293743 34193.12706257]\n",
      " [  502.40780635   295.59219365]\n",
      " [ 9105.66930229  5357.33069771]\n",
      " [ 6705.06658849  3944.93341151]\n",
      " [  735.98336544   433.01663456]]\n"
     ]
    }
   ],
   "source": [
    "contingency_table = pd.crosstab(df['meal'], df['is_canceled'])\n",
    "\n",
    "# Display the observed contingency table\n",
    "print(\"Observed Contingency Table:\")\n",
    "print(contingency_table)\n",
    "\n",
    "# Perform the chi-squared test\n",
    "chi2, p, dof, expected = chi2_contingency(contingency_table)\n",
    "\n",
    "# Display the results\n",
    "print(\"\\nChi-squared Test Statistics:\")\n",
    "print(f\"Chi2: {chi2}\")\n",
    "print(f\"P-value: {p}\")\n",
    "print(f\"Degrees of Freedom: {dof}\")\n",
    "print(\"\\nExpected Frequencies:\")\n",
    "print(expected)"
   ]
  },
  {
   "cell_type": "code",
   "execution_count": 66,
   "id": "c23f64d5",
   "metadata": {},
   "outputs": [
    {
     "name": "stdout",
     "output_type": "stream",
     "text": [
      "                           count\n",
      "meal      is_canceled           \n",
      "BB        0            62.615101\n",
      "          1            37.384899\n",
      "FB        0            40.100251\n",
      "          1            59.899749\n",
      "HB        0            65.539653\n",
      "          1            34.460347\n",
      "SC        0            62.760563\n",
      "          1            37.239437\n",
      "Undefined 0            75.534645\n",
      "          1            24.465355\n"
     ]
    }
   ],
   "source": [
    "cancel_year = df.groupby(['meal', 'is_canceled']).size().to_frame(name='count')\n",
    "cancel_percentage = cancel_year.groupby(level=0).apply(lambda x:100 * x / float(x.sum()))\n",
    "print(cancel_percentage)"
   ]
  },
  {
   "cell_type": "markdown",
   "id": "74a7c57e",
   "metadata": {},
   "source": [
    "# Country"
   ]
  },
  {
   "cell_type": "code",
   "execution_count": 71,
   "id": "169436a3",
   "metadata": {},
   "outputs": [
    {
     "data": {
      "text/plain": [
       "488"
      ]
     },
     "execution_count": 71,
     "metadata": {},
     "output_type": "execute_result"
    }
   ],
   "source": [
    "df[\"country\"].isnull().sum()"
   ]
  },
  {
   "cell_type": "code",
   "execution_count": 72,
   "id": "46194d0b",
   "metadata": {},
   "outputs": [
    {
     "data": {
      "text/plain": [
       "PRT    48590\n",
       "GBR    12129\n",
       "FRA    10415\n",
       "ESP     8568\n",
       "DEU     7287\n",
       "       ...  \n",
       "DJI        1\n",
       "BWA        1\n",
       "HND        1\n",
       "VGB        1\n",
       "NAM        1\n",
       "Name: country, Length: 177, dtype: int64"
      ]
     },
     "execution_count": 72,
     "metadata": {},
     "output_type": "execute_result"
    }
   ],
   "source": [
    "df[\"country\"].value_counts()"
   ]
  },
  {
   "cell_type": "markdown",
   "id": "90228f7a",
   "metadata": {},
   "source": [
    "# Market Segment"
   ]
  },
  {
   "cell_type": "code",
   "execution_count": 75,
   "id": "58d3a759",
   "metadata": {},
   "outputs": [
    {
     "data": {
      "text/plain": [
       "0"
      ]
     },
     "execution_count": 75,
     "metadata": {},
     "output_type": "execute_result"
    }
   ],
   "source": [
    "df[\"market_segment\"].isnull().sum()"
   ]
  },
  {
   "cell_type": "code",
   "execution_count": 74,
   "id": "cb6d777d",
   "metadata": {
    "scrolled": true
   },
   "outputs": [
    {
     "data": {
      "text/plain": [
       "Online TA        56477\n",
       "Offline TA/TO    24219\n",
       "Groups           19811\n",
       "Direct           12606\n",
       "Corporate         5295\n",
       "Complementary      743\n",
       "Aviation           237\n",
       "Undefined            2\n",
       "Name: market_segment, dtype: int64"
      ]
     },
     "execution_count": 74,
     "metadata": {},
     "output_type": "execute_result"
    }
   ],
   "source": [
    "df[\"market_segment\"].value_counts()"
   ]
  },
  {
   "cell_type": "code",
   "execution_count": 73,
   "id": "7aa3ae98",
   "metadata": {},
   "outputs": [
    {
     "name": "stdout",
     "output_type": "stream",
     "text": [
      "Observed Contingency Table:\n",
      "is_canceled         0      1\n",
      "market_segment              \n",
      "Aviation          185     52\n",
      "Complementary     646     97\n",
      "Corporate        4303    992\n",
      "Direct          10672   1934\n",
      "Groups           7714  12097\n",
      "Offline TA/TO   15908   8311\n",
      "Online TA       35738  20739\n",
      "Undefined           0      2\n",
      "\n",
      "Chi-squared Test Statistics:\n",
      "Chi2: 8497.224089832987\n",
      "P-value: 0.0\n",
      "Degrees of Freedom: 7\n",
      "\n",
      "Expected Frequencies:\n",
      "[[1.49211341e+02 8.77886590e+01]\n",
      " [4.67780702e+02 2.75219298e+02]\n",
      " [3.33364578e+03 1.96135422e+03]\n",
      " [7.93653234e+03 4.66946766e+03]\n",
      " [1.24726830e+04 7.33831698e+03]\n",
      " [1.52478880e+04 8.97111195e+03]\n",
      " [3.55569996e+04 2.09200004e+04]\n",
      " [1.25916743e+00 7.40832566e-01]]\n"
     ]
    }
   ],
   "source": [
    "contingency_table = pd.crosstab(df['market_segment'], df['is_canceled'])\n",
    "\n",
    "# Display the observed contingency table\n",
    "print(\"Observed Contingency Table:\")\n",
    "print(contingency_table)\n",
    "\n",
    "# Perform the chi-squared test\n",
    "chi2, p, dof, expected = chi2_contingency(contingency_table)\n",
    "\n",
    "# Display the results\n",
    "print(\"\\nChi-squared Test Statistics:\")\n",
    "print(f\"Chi2: {chi2}\")\n",
    "print(f\"P-value: {p}\")\n",
    "print(f\"Degrees of Freedom: {dof}\")\n",
    "print(\"\\nExpected Frequencies:\")\n",
    "print(expected)"
   ]
  },
  {
   "cell_type": "code",
   "execution_count": 77,
   "id": "e43a8a87",
   "metadata": {},
   "outputs": [
    {
     "name": "stdout",
     "output_type": "stream",
     "text": [
      "                                 count\n",
      "market_segment is_canceled            \n",
      "Aviation       0             78.059072\n",
      "               1             21.940928\n",
      "Complementary  0             86.944818\n",
      "               1             13.055182\n",
      "Corporate      0             81.265345\n",
      "               1             18.734655\n",
      "Direct         0             84.658099\n",
      "               1             15.341901\n",
      "Groups         0             38.937964\n",
      "               1             61.062036\n",
      "Offline TA/TO  0             65.683967\n",
      "               1             34.316033\n",
      "Online TA      0             63.278857\n",
      "               1             36.721143\n",
      "Undefined      1            100.000000\n"
     ]
    }
   ],
   "source": [
    "cancel_year = df.groupby(['market_segment','is_canceled']).size().to_frame(name='count')\n",
    "cancel_percentage = cancel_year.groupby(level=0).apply(lambda x:100 * x / float(x.sum()))\n",
    "print(cancel_percentage)"
   ]
  },
  {
   "cell_type": "code",
   "execution_count": 78,
   "id": "26c18df4",
   "metadata": {},
   "outputs": [
    {
     "data": {
      "text/plain": [
       "<AxesSubplot:xlabel='market_segment', ylabel='lead_time'>"
      ]
     },
     "execution_count": 78,
     "metadata": {},
     "output_type": "execute_result"
    },
    {
     "data": {
      "image/png": "[encoded data removed]",
      "text/plain": [
       "<Figure size 900x700 with 1 Axes>"
      ]
     },
     "metadata": {},
     "output_type": "display_data"
    }
   ],
   "source": [
    "plt.figure(figsize=(9, 7))\n",
    "sns.boxplot(x='market_segment', y='lead_time', data=df, palette='plasma')"
   ]
  },
  {
   "cell_type": "markdown",
   "id": "3bf7d02e",
   "metadata": {},
   "source": [
    "# Distribution Channel"
   ]
  },
  {
   "cell_type": "code",
   "execution_count": 79,
   "id": "0915456e",
   "metadata": {},
   "outputs": [
    {
     "data": {
      "text/plain": [
       "0"
      ]
     },
     "execution_count": 79,
     "metadata": {},
     "output_type": "execute_result"
    }
   ],
   "source": [
    "df[\"distribution_channel\"].isnull().sum()"
   ]
  },
  {
   "cell_type": "code",
   "execution_count": 80,
   "id": "3c5ecff7",
   "metadata": {},
   "outputs": [
    {
     "data": {
      "text/plain": [
       "TA/TO        97870\n",
       "Direct       14645\n",
       "Corporate     6677\n",
       "GDS            193\n",
       "Undefined        5\n",
       "Name: distribution_channel, dtype: int64"
      ]
     },
     "execution_count": 80,
     "metadata": {},
     "output_type": "execute_result"
    }
   ],
   "source": [
    "df[\"distribution_channel\"].value_counts()"
   ]
  },
  {
   "cell_type": "code",
   "execution_count": 81,
   "id": "fff670a8",
   "metadata": {},
   "outputs": [
    {
     "name": "stdout",
     "output_type": "stream",
     "text": [
      "Observed Contingency Table:\n",
      "is_canceled               0      1\n",
      "distribution_channel              \n",
      "Corporate              5203   1474\n",
      "Direct                12088   2557\n",
      "GDS                     156     37\n",
      "TA/TO                 57718  40152\n",
      "Undefined                 1      4\n",
      "\n",
      "Chi-squared Test Statistics:\n",
      "Chi2: 3745.794123751679\n",
      "P-value: 0.0\n",
      "Degrees of Freedom: 4\n",
      "\n",
      "Expected Frequencies:\n",
      "[[4.20373048e+03 2.47326952e+03]\n",
      " [9.22025354e+03 5.42474646e+03]\n",
      " [1.21509657e+02 7.14903426e+01]\n",
      " [6.16173584e+04 3.62526416e+04]\n",
      " [3.14791859e+00 1.85208141e+00]]\n"
     ]
    }
   ],
   "source": [
    "contingency_table = pd.crosstab(df['distribution_channel'], df['is_canceled'])\n",
    "\n",
    "# Display the observed contingency table\n",
    "print(\"Observed Contingency Table:\")\n",
    "print(contingency_table)\n",
    "\n",
    "# Perform the chi-squared test\n",
    "chi2, p, dof, expected = chi2_contingency(contingency_table)\n",
    "\n",
    "# Display the results\n",
    "print(\"\\nChi-squared Test Statistics:\")\n",
    "print(f\"Chi2: {chi2}\")\n",
    "print(f\"P-value: {p}\")\n",
    "print(f\"Degrees of Freedom: {dof}\")\n",
    "print(\"\\nExpected Frequencies:\")\n",
    "print(expected)"
   ]
  },
  {
   "cell_type": "code",
   "execution_count": 82,
   "id": "99ec83e1",
   "metadata": {},
   "outputs": [
    {
     "name": "stdout",
     "output_type": "stream",
     "text": [
      "                                      count\n",
      "distribution_channel is_canceled           \n",
      "Corporate            0            77.924217\n",
      "                     1            22.075783\n",
      "Direct               0            82.540116\n",
      "                     1            17.459884\n",
      "GDS                  0            80.829016\n",
      "                     1            19.170984\n",
      "TA/TO                0            58.974149\n",
      "                     1            41.025851\n",
      "Undefined            0            20.000000\n",
      "                     1            80.000000\n"
     ]
    }
   ],
   "source": [
    "cancel_year = df.groupby(['distribution_channel','is_canceled']).size().to_frame(name='count')\n",
    "cancel_percentage = cancel_year.groupby(level=0).apply(lambda x:100 * x / float(x.sum()))\n",
    "print(cancel_percentage)"
   ]
  },
  {
   "cell_type": "markdown",
   "id": "49432e0c",
   "metadata": {},
   "source": [
    "# Repeated Guest"
   ]
  },
  {
   "cell_type": "code",
   "execution_count": 4,
   "id": "ce44bd80",
   "metadata": {},
   "outputs": [
    {
     "data": {
      "image/png": "[encoded data removed]",
      "text/plain": [
       "<Figure size 640x480 with 1 Axes>"
      ]
     },
     "metadata": {},
     "output_type": "display_data"
    }
   ],
   "source": [
    "\n",
    "sns.countplot(x='is_repeated_guest', data=df)\n",
    "plt.title('Distribution of Repeated Guests')\n",
    "plt.show()"
   ]
  },
  {
   "cell_type": "code",
   "execution_count": 5,
   "id": "b55a8ed5",
   "metadata": {},
   "outputs": [
    {
     "name": "stdout",
     "output_type": "stream",
     "text": [
      "hotel\n",
      "City Hotel      0.025615\n",
      "Resort Hotel    0.044383\n",
      "Name: is_repeated_guest, dtype: float64\n"
     ]
    }
   ],
   "source": [
    "repeated_guests_percentages_by_hotel_type = df.groupby('hotel')['is_repeated_guest'].mean()\n",
    "print(repeated_guests_percentages_by_hotel_type)"
   ]
  },
  {
   "cell_type": "code",
   "execution_count": 6,
   "id": "58a9aa4d",
   "metadata": {},
   "outputs": [],
   "source": [
    "observed_table = pd.crosstab(df['is_canceled'], df['is_repeated_guest'])"
   ]
  },
  {
   "cell_type": "code",
   "execution_count": 7,
   "id": "6b133a6e",
   "metadata": {},
   "outputs": [
    {
     "name": "stdout",
     "output_type": "stream",
     "text": [
      "Observed Contingency Table:\n",
      "is_repeated_guest      0     1\n",
      "is_canceled                   \n",
      "0                  71908  3258\n",
      "1                  43672   552\n"
     ]
    }
   ],
   "source": [
    "print(\"Observed Contingency Table:\")\n",
    "print(observed_table)"
   ]
  },
  {
   "cell_type": "code",
   "execution_count": 8,
   "id": "9e420133",
   "metadata": {},
   "outputs": [],
   "source": [
    "chi2, p, dof, expected = chi2_contingency(observed_table)"
   ]
  },
  {
   "cell_type": "code",
   "execution_count": 9,
   "id": "a6556e00",
   "metadata": {},
   "outputs": [
    {
     "name": "stdout",
     "output_type": "stream",
     "text": [
      "\n",
      "Chi-squared Test Statistics:\n",
      "Chi2: 857.4063180373694\n",
      "P-value: 1.7841252215934033e-188\n",
      "Degrees of Freedom: 1\n",
      "\n",
      "Expected Frequencies:\n",
      "[[72767.28603736  2398.71396264]\n",
      " [42812.71396264  1411.28603736]]\n"
     ]
    }
   ],
   "source": [
    "print(\"\\nChi-squared Test Statistics:\")\n",
    "print(f\"Chi2: {chi2}\")\n",
    "print(f\"P-value: {p}\")\n",
    "print(f\"Degrees of Freedom: {dof}\")\n",
    "print(\"\\nExpected Frequencies:\")\n",
    "print(expected) \n"
   ]
  },
  {
   "cell_type": "markdown",
   "id": "85866e1c",
   "metadata": {},
   "source": [
    "# Previous Cancellations"
   ]
  },
  {
   "cell_type": "code",
   "execution_count": 10,
   "id": "27b299e9",
   "metadata": {},
   "outputs": [
    {
     "data": {
      "text/plain": [
       "0"
      ]
     },
     "execution_count": 10,
     "metadata": {},
     "output_type": "execute_result"
    }
   ],
   "source": [
    "df['previous_cancellations'].isnull().sum()"
   ]
  },
  {
   "cell_type": "code",
   "execution_count": 11,
   "id": "e73f348d",
   "metadata": {},
   "outputs": [
    {
     "name": "stdout",
     "output_type": "stream",
     "text": [
      "count    119390.000000\n",
      "mean          0.087118\n",
      "std           0.844336\n",
      "min           0.000000\n",
      "25%           0.000000\n",
      "50%           0.000000\n",
      "75%           0.000000\n",
      "max          26.000000\n",
      "Name: previous_cancellations, dtype: float64\n"
     ]
    }
   ],
   "source": [
    "print(df['previous_cancellations'].describe())"
   ]
  },
  {
   "cell_type": "code",
   "execution_count": 12,
   "id": "7815059b",
   "metadata": {},
   "outputs": [
    {
     "name": "stdout",
     "output_type": "stream",
     "text": [
      "Observed Contingency Table:\n",
      "is_canceled                 0      1\n",
      "previous_cancellations              \n",
      "0                       74624  38282\n",
      "1                         337   5714\n",
      "2                          78     38\n",
      "3                          45     20\n",
      "4                          24      7\n",
      "5                          17      2\n",
      "6                          15      7\n",
      "11                         25     10\n",
      "13                          1     11\n",
      "14                          0     14\n",
      "19                          0     19\n",
      "21                          0      1\n",
      "24                          0     48\n",
      "25                          0     25\n",
      "26                          0     26\n"
     ]
    }
   ],
   "source": [
    "observed_table = pd.crosstab(df['previous_cancellations'], df['is_canceled'])\n",
    "print(\"Observed Contingency Table:\")\n",
    "print(observed_table)\n"
   ]
  },
  {
   "cell_type": "code",
   "execution_count": 13,
   "id": "3d3657a5",
   "metadata": {},
   "outputs": [],
   "source": [
    "chi2, p, dof, expected = chi2_contingency(observed_table)"
   ]
  },
  {
   "cell_type": "code",
   "execution_count": 14,
   "id": "77cabf33",
   "metadata": {},
   "outputs": [
    {
     "name": "stdout",
     "output_type": "stream",
     "text": [
      "\n",
      "Chi-squared Test Statistics:\n",
      "Chi2: 9274.833707930893\n",
      "P-value: 0.0\n",
      "Degrees of Freedom: 14\n",
      "\n",
      "Expected Frequencies:\n",
      "[[7.10837792e+04 4.18222208e+04]\n",
      " [3.80961107e+03 2.24138893e+03]\n",
      " [7.30317112e+01 4.29682888e+01]\n",
      " [4.09229416e+01 2.40770584e+01]\n",
      " [1.95170952e+01 1.14829048e+01]\n",
      " [1.19620906e+01 7.03790937e+00]\n",
      " [1.38508418e+01 8.14915822e+00]\n",
      " [2.20354301e+01 1.29645699e+01]\n",
      " [7.55500461e+00 4.44499539e+00]\n",
      " [8.81417204e+00 5.18582796e+00]\n",
      " [1.19620906e+01 7.03790937e+00]\n",
      " [6.29583717e-01 3.70416283e-01]\n",
      " [3.02200184e+01 1.77799816e+01]\n",
      " [1.57395929e+01 9.26040707e+00]\n",
      " [1.63691766e+01 9.63082335e+00]]\n"
     ]
    }
   ],
   "source": [
    "print(\"\\nChi-squared Test Statistics:\")\n",
    "print(f\"Chi2: {chi2}\")\n",
    "print(f\"P-value: {p}\")\n",
    "print(f\"Degrees of Freedom: {dof}\")\n",
    "print(\"\\nExpected Frequencies:\")\n",
    "print(expected) "
   ]
  },
  {
   "cell_type": "markdown",
   "id": "2cfe9ace",
   "metadata": {},
   "source": [
    "# Previous Bookings Not Cancelled"
   ]
  },
  {
   "cell_type": "code",
   "execution_count": 15,
   "id": "7cec8cea",
   "metadata": {},
   "outputs": [
    {
     "data": {
      "text/plain": [
       "0"
      ]
     },
     "execution_count": 15,
     "metadata": {},
     "output_type": "execute_result"
    }
   ],
   "source": [
    "df['previous_bookings_not_canceled'].isnull().sum()"
   ]
  },
  {
   "cell_type": "code",
   "execution_count": 16,
   "id": "16989b4d",
   "metadata": {},
   "outputs": [
    {
     "data": {
      "text/plain": [
       "0     115770\n",
       "1       1542\n",
       "2        580\n",
       "3        333\n",
       "4        229\n",
       "       ...  \n",
       "47         1\n",
       "49         1\n",
       "50         1\n",
       "51         1\n",
       "72         1\n",
       "Name: previous_bookings_not_canceled, Length: 73, dtype: int64"
      ]
     },
     "execution_count": 16,
     "metadata": {},
     "output_type": "execute_result"
    }
   ],
   "source": [
    "df['previous_bookings_not_canceled'].value_counts()"
   ]
  },
  {
   "cell_type": "code",
   "execution_count": 17,
   "id": "3f45ad44",
   "metadata": {},
   "outputs": [
    {
     "name": "stdout",
     "output_type": "stream",
     "text": [
      "count    119390.000000\n",
      "mean          0.137097\n",
      "std           1.497437\n",
      "min           0.000000\n",
      "25%           0.000000\n",
      "50%           0.000000\n",
      "75%           0.000000\n",
      "max          72.000000\n",
      "Name: previous_bookings_not_canceled, dtype: float64\n"
     ]
    }
   ],
   "source": [
    "print(df['previous_bookings_not_canceled'].describe())"
   ]
  },
  {
   "cell_type": "code",
   "execution_count": 18,
   "id": "fef2c8c6",
   "metadata": {},
   "outputs": [
    {
     "data": {
      "text/plain": [
       "0        NaN\n",
       "1        NaN\n",
       "2        NaN\n",
       "3        NaN\n",
       "4        NaN\n",
       "          ..\n",
       "119385   NaN\n",
       "119386   NaN\n",
       "119387   NaN\n",
       "119388   NaN\n",
       "119389   NaN\n",
       "Length: 119390, dtype: float64"
      ]
     },
     "execution_count": 18,
     "metadata": {},
     "output_type": "execute_result"
    }
   ],
   "source": [
    "(df['previous_bookings_not_canceled']/(df['previous_bookings_not_canceled']+df['previous_cancellations']))*100"
   ]
  },
  {
   "cell_type": "code",
   "execution_count": 19,
   "id": "4ebe90ed",
   "metadata": {},
   "outputs": [
    {
     "data": {
      "text/plain": [
       "10401"
      ]
     },
     "execution_count": 19,
     "metadata": {},
     "output_type": "execute_result"
    }
   ],
   "source": [
    "valueprevious_cancellations=df['previous_cancellations'].sum()\n",
    "valueprevious_cancellations"
   ]
  },
  {
   "cell_type": "code",
   "execution_count": 20,
   "id": "72efbf95",
   "metadata": {},
   "outputs": [
    {
     "data": {
      "text/plain": [
       "16368"
      ]
     },
     "execution_count": 20,
     "metadata": {},
     "output_type": "execute_result"
    }
   ],
   "source": [
    "\n",
    "valuebookings_notcancelled=df['previous_bookings_not_canceled'].sum()\n",
    "valuebookings_notcancelled"
   ]
  },
  {
   "cell_type": "code",
   "execution_count": 21,
   "id": "1ee3ffc4",
   "metadata": {},
   "outputs": [
    {
     "name": "stdout",
     "output_type": "stream",
     "text": [
      "Previous Cancellations Percentage: 38.85464529866637\n",
      "Previous Bookings Not Cancelled Percentage: 61.14535470133363\n"
     ]
    }
   ],
   "source": [
    "PreviousCancellationPercentage=(valueprevious_cancellations/(valuebookings_notcancelled+valueprevious_cancellations))*100\n",
    "PreviousNotCanceledPercentage=(valuebookings_notcancelled/(valuebookings_notcancelled+valueprevious_cancellations))*100\n",
    "print('Previous Cancellations Percentage:',PreviousCancellationPercentage)\n",
    "print('Previous Bookings Not Cancelled Percentage:',PreviousNotCanceledPercentage)"
   ]
  },
  {
   "cell_type": "code",
   "execution_count": 22,
   "id": "e56116c8",
   "metadata": {},
   "outputs": [
    {
     "name": "stdout",
     "output_type": "stream",
     "text": [
      "-0.05735772316594613\n"
     ]
    }
   ],
   "source": [
    "correlation = df['previous_bookings_not_canceled'].corr(df['is_canceled'])\n",
    "print(correlation)"
   ]
  },
  {
   "cell_type": "code",
   "execution_count": 23,
   "id": "6a5b9652",
   "metadata": {},
   "outputs": [
    {
     "name": "stdout",
     "output_type": "stream",
     "text": [
      "0.1101328082228435\n"
     ]
    }
   ],
   "source": [
    "correlation = df['previous_cancellations'].corr(df['is_canceled'])\n",
    "print(correlation)\n"
   ]
  },
  {
   "cell_type": "markdown",
   "id": "cae3b895",
   "metadata": {},
   "source": [
    "# Reserved Room Type"
   ]
  },
  {
   "cell_type": "code",
   "execution_count": 25,
   "id": "c555abb4",
   "metadata": {},
   "outputs": [
    {
     "data": {
      "text/plain": [
       "0"
      ]
     },
     "execution_count": 25,
     "metadata": {},
     "output_type": "execute_result"
    }
   ],
   "source": [
    "df['reserved_room_type'].isnull().sum()"
   ]
  },
  {
   "cell_type": "code",
   "execution_count": 26,
   "id": "8402f603",
   "metadata": {},
   "outputs": [
    {
     "data": {
      "text/plain": [
       "A    85994\n",
       "D    19201\n",
       "E     6535\n",
       "F     2897\n",
       "G     2094\n",
       "B     1118\n",
       "C      932\n",
       "H      601\n",
       "P       12\n",
       "L        6\n",
       "Name: reserved_room_type, dtype: int64"
      ]
     },
     "execution_count": 26,
     "metadata": {},
     "output_type": "execute_result"
    }
   ],
   "source": [
    "df['reserved_room_type'].value_counts()"
   ]
  },
  {
   "cell_type": "code",
   "execution_count": 27,
   "id": "fd1118d5",
   "metadata": {},
   "outputs": [],
   "source": [
    "data=np.array([85994,19201,6535,2897,2094,1118,932,601,12,6])"
   ]
  },
  {
   "cell_type": "code",
   "execution_count": 28,
   "id": "37567716",
   "metadata": {},
   "outputs": [],
   "source": [
    "mylabels = ['A','D','E','F','G','B','C','H','P','L']"
   ]
  },
  {
   "cell_type": "code",
   "execution_count": 29,
   "id": "43282ebb",
   "metadata": {},
   "outputs": [],
   "source": [
    "ReservedRooms = df['reserved_room_type']"
   ]
  },
  {
   "cell_type": "code",
   "execution_count": 30,
   "id": "4df8f504",
   "metadata": {},
   "outputs": [
    {
     "data": {
      "image/png": "[encoded data removed]",
      "text/plain": [
       "<Figure size 640x480 with 1 Axes>"
      ]
     },
     "metadata": {},
     "output_type": "display_data"
    }
   ],
   "source": [
    "plt.pie(data, labels=mylabels, autopct='%1.1f%%')\n",
    "plt.title('Pie Chart of Reserved Rooms')\n",
    "plt.show()\n"
   ]
  },
  {
   "cell_type": "code",
   "execution_count": 31,
   "id": "46052e20",
   "metadata": {},
   "outputs": [
    {
     "name": "stdout",
     "output_type": "stream",
     "text": [
      "Observed Contingency Table:\n",
      "is_canceled             0      1\n",
      "reserved_room_type              \n",
      "A                   52364  33630\n",
      "B                     750    368\n",
      "C                     624    308\n",
      "D                   13099   6102\n",
      "E                    4621   1914\n",
      "F                    2017    880\n",
      "G                    1331    763\n",
      "H                     356    245\n",
      "L                       4      2\n",
      "P                       0     12\n"
     ]
    }
   ],
   "source": [
    "observed_table = pd.crosstab(df['reserved_room_type'], df['is_canceled'])\n",
    "print(\"Observed Contingency Table:\")\n",
    "print(observed_table)"
   ]
  },
  {
   "cell_type": "code",
   "execution_count": 32,
   "id": "39517127",
   "metadata": {},
   "outputs": [],
   "source": [
    "\n",
    "chi2, p, dof, expected = chi2_contingency(observed_table)"
   ]
  },
  {
   "cell_type": "code",
   "execution_count": 33,
   "id": "7596e60f",
   "metadata": {},
   "outputs": [
    {
     "name": "stdout",
     "output_type": "stream",
     "text": [
      "\n",
      "Chi-squared Test Statistics:\n",
      "Chi2: 647.8350973363271\n",
      "P-value: 1.121956218424043e-133\n",
      "Degrees of Freedom: 9\n",
      "\n",
      "Expected Frequencies:\n",
      "[[5.41404222e+04 3.18535778e+04]\n",
      " [7.03874596e+02 4.14125404e+02]\n",
      " [5.86772024e+02 3.45227976e+02]\n",
      " [1.20886370e+04 7.11236305e+03]\n",
      " [4.11432959e+03 2.42067041e+03]\n",
      " [1.82390403e+03 1.07309597e+03]\n",
      " [1.31834830e+03 7.75651696e+02]\n",
      " [3.78379814e+02 2.22620186e+02]\n",
      " [3.77750230e+00 2.22249770e+00]\n",
      " [7.55500461e+00 4.44499539e+00]]\n"
     ]
    }
   ],
   "source": [
    "\n",
    "print(\"\\nChi-squared Test Statistics:\")\n",
    "print(f\"Chi2: {chi2}\")\n",
    "print(f\"P-value: {p}\")\n",
    "print(f\"Degrees of Freedom: {dof}\")\n",
    "print(\"\\nExpected Frequencies:\")\n",
    "print(expected) \n"
   ]
  },
  {
   "cell_type": "markdown",
   "id": "a936f3c3",
   "metadata": {},
   "source": [
    "# Assigned Room Type"
   ]
  },
  {
   "cell_type": "code",
   "execution_count": 34,
   "id": "8aac69ff",
   "metadata": {},
   "outputs": [
    {
     "data": {
      "image/png": "[encoded data removed]",
      "text/plain": [
       "<Figure size 640x480 with 1 Axes>"
      ]
     },
     "metadata": {},
     "output_type": "display_data"
    }
   ],
   "source": [
    "plt.scatter(df['reserved_room_type'], df['assigned_room_type'],color='red') \n",
    "plt.xlabel(\"Reserved Room Type\",fontsize=15)  \n",
    "plt.ylabel(\"Assigned Room Type\",fontsize=15) \n",
    "plt.rcParams[\"font.family\"] = \"serif\"  \n",
    "plt.title(\"Reserved Room Type vs Assigned Room Type\",fontsize=19,y=1.1) \n",
    "plt.show()\n"
   ]
  },
  {
   "cell_type": "markdown",
   "id": "f65de76d",
   "metadata": {},
   "source": [
    "# Booking Changes"
   ]
  },
  {
   "cell_type": "code",
   "execution_count": 35,
   "id": "32bd827e",
   "metadata": {},
   "outputs": [
    {
     "name": "stdout",
     "output_type": "stream",
     "text": [
      "count    119390.000000\n",
      "mean          0.221124\n",
      "std           0.652306\n",
      "min           0.000000\n",
      "25%           0.000000\n",
      "50%           0.000000\n",
      "75%           0.000000\n",
      "max          21.000000\n",
      "Name: booking_changes, dtype: float64\n"
     ]
    }
   ],
   "source": [
    "print(df['booking_changes'].describe())"
   ]
  },
  {
   "cell_type": "code",
   "execution_count": 36,
   "id": "92e95ad7",
   "metadata": {},
   "outputs": [
    {
     "data": {
      "image/png": "[encoded data removed]",
      "text/plain": [
       "<Figure size 640x480 with 1 Axes>"
      ]
     },
     "metadata": {},
     "output_type": "display_data"
    }
   ],
   "source": [
    "sns.countplot(x='booking_changes', data=df)\n",
    "plt.title('Distribution of Booking Changes')\n",
    "plt.show()\n"
   ]
  },
  {
   "cell_type": "code",
   "execution_count": 37,
   "id": "e9970c64",
   "metadata": {},
   "outputs": [
    {
     "data": {
      "image/png": "[encoded data removed]",
      "text/plain": [
       "<Figure size 640x480 with 1 Axes>"
      ]
     },
     "metadata": {},
     "output_type": "display_data"
    }
   ],
   "source": [
    "sns.histplot(df['booking_changes'], kde=True)\n",
    "plt.title('Distribution of Booking Changes')\n",
    "plt.show()\n"
   ]
  },
  {
   "cell_type": "code",
   "execution_count": 38,
   "id": "60f8e2ea",
   "metadata": {},
   "outputs": [
    {
     "data": {
      "text/plain": [
       "0     101314\n",
       "1      12701\n",
       "2       3805\n",
       "3        927\n",
       "4        376\n",
       "5        118\n",
       "6         63\n",
       "7         31\n",
       "8         17\n",
       "9          8\n",
       "10         6\n",
       "13         5\n",
       "14         5\n",
       "15         3\n",
       "16         2\n",
       "17         2\n",
       "12         2\n",
       "11         2\n",
       "20         1\n",
       "21         1\n",
       "18         1\n",
       "Name: booking_changes, dtype: int64"
      ]
     },
     "execution_count": 38,
     "metadata": {},
     "output_type": "execute_result"
    }
   ],
   "source": [
    "df['booking_changes'].value_counts()"
   ]
  },
  {
   "cell_type": "code",
   "execution_count": 39,
   "id": "c0134319",
   "metadata": {},
   "outputs": [
    {
     "name": "stdout",
     "output_type": "stream",
     "text": [
      "-0.14438099106132385\n"
     ]
    }
   ],
   "source": [
    "\n",
    "correlation = df['booking_changes'].corr(df['is_canceled'])\n",
    "print(correlation)"
   ]
  },
  {
   "cell_type": "markdown",
   "id": "80ffb617",
   "metadata": {},
   "source": [
    "# Deposit Type"
   ]
  },
  {
   "cell_type": "code",
   "execution_count": 40,
   "id": "31b24acf",
   "metadata": {},
   "outputs": [
    {
     "data": {
      "text/plain": [
       "No Deposit    104641\n",
       "Non Refund     14587\n",
       "Refundable       162\n",
       "Name: deposit_type, dtype: int64"
      ]
     },
     "execution_count": 40,
     "metadata": {},
     "output_type": "execute_result"
    }
   ],
   "source": [
    "df['deposit_type'].value_counts()"
   ]
  },
  {
   "cell_type": "code",
   "execution_count": 41,
   "id": "03c36294",
   "metadata": {},
   "outputs": [
    {
     "data": {
      "image/png": "[encoded data removed]",
      "text/plain": [
       "<Figure size 640x480 with 1 Axes>"
      ]
     },
     "metadata": {},
     "output_type": "display_data"
    }
   ],
   "source": [
    "sns.countplot(x='deposit_type', data=df)\n",
    "plt.title('Distribution of Deposit Type')\n",
    "plt.show()\n"
   ]
  },
  {
   "cell_type": "code",
   "execution_count": 43,
   "id": "d65d971a",
   "metadata": {},
   "outputs": [],
   "source": [
    "data = np.array([104641,14587,162])\n",
    "mylabels = ['No Deposit','Non Refundable Deposit','Refundable']"
   ]
  },
  {
   "cell_type": "code",
   "execution_count": 44,
   "id": "8cf64dcb",
   "metadata": {},
   "outputs": [],
   "source": [
    "Deposit_type = df['reserved_room_type']"
   ]
  },
  {
   "cell_type": "code",
   "execution_count": 45,
   "id": "24b4fa26",
   "metadata": {},
   "outputs": [
    {
     "data": {
      "image/png": "[encoded data removed]",
      "text/plain": [
       "<Figure size 640x480 with 1 Axes>"
      ]
     },
     "metadata": {},
     "output_type": "display_data"
    }
   ],
   "source": [
    "plt.pie(data, labels=mylabels, autopct='%1.1f%%')\n",
    "plt.title('Pie Chart of Deposit Type')\n",
    "plt.show()"
   ]
  },
  {
   "cell_type": "code",
   "execution_count": 46,
   "id": "d4d32e79",
   "metadata": {},
   "outputs": [
    {
     "name": "stdout",
     "output_type": "stream",
     "text": [
      "Observed Contingency Table:\n",
      "is_canceled       0      1\n",
      "deposit_type              \n",
      "No Deposit    74947  29694\n",
      "Non Refund       93  14494\n",
      "Refundable      126     36\n"
     ]
    }
   ],
   "source": [
    "observed_table = pd.crosstab(df['deposit_type'], df['is_canceled'])\n",
    "print(\"Observed Contingency Table:\")\n",
    "print(observed_table)"
   ]
  },
  {
   "cell_type": "code",
   "execution_count": 47,
   "id": "c845b7da",
   "metadata": {},
   "outputs": [],
   "source": [
    "\n",
    "chi2, p, dof, expected = chi2_contingency(observed_table)"
   ]
  },
  {
   "cell_type": "code",
   "execution_count": 48,
   "id": "46cb00d7",
   "metadata": {},
   "outputs": [
    {
     "name": "stdout",
     "output_type": "stream",
     "text": [
      "\n",
      "Chi-squared Test Statistics:\n",
      "Chi2: 27677.32924132434\n",
      "P-value: 0.0\n",
      "Degrees of Freedom: 2\n",
      "\n",
      "Expected Frequencies:\n",
      "[[6.58802698e+04 3.87607302e+04]\n",
      " [9.18373768e+03 5.40326232e+03]\n",
      " [1.01992562e+02 6.00074378e+01]]\n"
     ]
    }
   ],
   "source": [
    "print(\"\\nChi-squared Test Statistics:\")\n",
    "print(f\"Chi2: {chi2}\")\n",
    "print(f\"P-value: {p}\")\n",
    "print(f\"Degrees of Freedom: {dof}\")\n",
    "print(\"\\nExpected Frequencies:\")\n",
    "print(expected) "
   ]
  },
  {
   "cell_type": "markdown",
   "id": "ffc2f477",
   "metadata": {},
   "source": [
    "# Agent"
   ]
  },
  {
   "cell_type": "code",
   "execution_count": 49,
   "id": "a2f0b8b6",
   "metadata": {},
   "outputs": [
    {
     "data": {
      "text/plain": [
       "9.0      31961\n",
       "240.0    13922\n",
       "1.0       7191\n",
       "14.0      3640\n",
       "7.0       3539\n",
       "         ...  \n",
       "289.0        1\n",
       "432.0        1\n",
       "265.0        1\n",
       "93.0         1\n",
       "304.0        1\n",
       "Name: agent, Length: 333, dtype: int64"
      ]
     },
     "execution_count": 49,
     "metadata": {},
     "output_type": "execute_result"
    }
   ],
   "source": [
    "df['agent'].value_counts()"
   ]
  },
  {
   "cell_type": "code",
   "execution_count": 50,
   "id": "d7125cb3",
   "metadata": {},
   "outputs": [
    {
     "data": {
      "text/plain": [
       "16340"
      ]
     },
     "execution_count": 50,
     "metadata": {},
     "output_type": "execute_result"
    }
   ],
   "source": [
    "df['agent'].isnull().sum()"
   ]
  },
  {
   "cell_type": "markdown",
   "id": "7186bb34",
   "metadata": {},
   "source": [
    "# Company "
   ]
  },
  {
   "cell_type": "code",
   "execution_count": 51,
   "id": "4dc2543a",
   "metadata": {},
   "outputs": [
    {
     "data": {
      "text/plain": [
       "112593"
      ]
     },
     "execution_count": 51,
     "metadata": {},
     "output_type": "execute_result"
    }
   ],
   "source": [
    "df['company'].isnull().sum()"
   ]
  },
  {
   "cell_type": "markdown",
   "id": "1f24d894",
   "metadata": {},
   "source": [
    "# Days in waiting list"
   ]
  },
  {
   "cell_type": "code",
   "execution_count": 52,
   "id": "215d84c3",
   "metadata": {},
   "outputs": [
    {
     "data": {
      "text/plain": [
       "0      115692\n",
       "39        227\n",
       "58        164\n",
       "44        141\n",
       "31        127\n",
       "        ...  \n",
       "116         1\n",
       "109         1\n",
       "37          1\n",
       "89          1\n",
       "36          1\n",
       "Name: days_in_waiting_list, Length: 128, dtype: int64"
      ]
     },
     "execution_count": 52,
     "metadata": {},
     "output_type": "execute_result"
    }
   ],
   "source": [
    "df['days_in_waiting_list'].value_counts()"
   ]
  },
  {
   "cell_type": "code",
   "execution_count": 53,
   "id": "6ffc7189",
   "metadata": {},
   "outputs": [
    {
     "data": {
      "text/plain": [
       "count    119390.000000\n",
       "mean          2.321149\n",
       "std          17.594721\n",
       "min           0.000000\n",
       "25%           0.000000\n",
       "50%           0.000000\n",
       "75%           0.000000\n",
       "max         391.000000\n",
       "Name: days_in_waiting_list, dtype: float64"
      ]
     },
     "execution_count": 53,
     "metadata": {},
     "output_type": "execute_result"
    }
   ],
   "source": [
    "df['days_in_waiting_list'].describe()"
   ]
  },
  {
   "cell_type": "code",
   "execution_count": 54,
   "id": "0da2adc5",
   "metadata": {},
   "outputs": [
    {
     "data": {
      "text/plain": [
       "{'whiskers': [<matplotlib.lines.Line2D at 0x235beeb6b20>,\n",
       "  <matplotlib.lines.Line2D at 0x235beeb6df0>],\n",
       " 'caps': [<matplotlib.lines.Line2D at 0x235beec7100>,\n",
       "  <matplotlib.lines.Line2D at 0x235beec73d0>],\n",
       " 'boxes': [<matplotlib.lines.Line2D at 0x235beeb6850>],\n",
       " 'medians': [<matplotlib.lines.Line2D at 0x235beec76a0>],\n",
       " 'fliers': [<matplotlib.lines.Line2D at 0x235beec7970>],\n",
       " 'means': []}"
      ]
     },
     "execution_count": 54,
     "metadata": {},
     "output_type": "execute_result"
    },
    {
     "data": {
      "image/png": "[encoded data removed]",
      "text/plain": [
       "<Figure size 640x480 with 1 Axes>"
      ]
     },
     "metadata": {},
     "output_type": "display_data"
    }
   ],
   "source": [
    "plt.boxplot(df['days_in_waiting_list'])"
   ]
  },
  {
   "cell_type": "code",
   "execution_count": 55,
   "id": "ddf54d04",
   "metadata": {},
   "outputs": [
    {
     "name": "stdout",
     "output_type": "stream",
     "text": [
      "0.054185824117780376\n"
     ]
    }
   ],
   "source": [
    "correlation = df['days_in_waiting_list'].corr(df['is_canceled'])\n",
    "print(correlation)\n"
   ]
  },
  {
   "cell_type": "code",
   "execution_count": 56,
   "id": "0c826b63",
   "metadata": {},
   "outputs": [
    {
     "data": {
      "image/png": "[encoded data removed]",
      "text/plain": [
       "<Figure size 640x480 with 1 Axes>"
      ]
     },
     "metadata": {},
     "output_type": "display_data"
    }
   ],
   "source": [
    "sns.countplot(x='days_in_waiting_list', data=df)\n",
    "plt.title('Distribution of Deposit Type')\n",
    "plt.show()"
   ]
  },
  {
   "cell_type": "markdown",
   "id": "39afed69",
   "metadata": {},
   "source": [
    "# Customer Type"
   ]
  },
  {
   "cell_type": "code",
   "execution_count": 57,
   "id": "7f311d06",
   "metadata": {},
   "outputs": [
    {
     "data": {
      "text/plain": [
       "Transient          89613\n",
       "Transient-Party    25124\n",
       "Contract            4076\n",
       "Group                577\n",
       "Name: customer_type, dtype: int64"
      ]
     },
     "execution_count": 57,
     "metadata": {},
     "output_type": "execute_result"
    }
   ],
   "source": [
    "df['customer_type'].value_counts()"
   ]
  },
  {
   "cell_type": "code",
   "execution_count": 58,
   "id": "850baf64",
   "metadata": {},
   "outputs": [
    {
     "data": {
      "image/png": "[encoded data removed]",
      "text/plain": [
       "<Figure size 640x480 with 1 Axes>"
      ]
     },
     "metadata": {},
     "output_type": "display_data"
    }
   ],
   "source": [
    "\n",
    "sns.countplot(x='customer_type', data=df)\n",
    "plt.title('Distribution of Deposit Type')\n",
    "plt.show()"
   ]
  },
  {
   "cell_type": "code",
   "execution_count": 59,
   "id": "da73f259",
   "metadata": {},
   "outputs": [
    {
     "name": "stdout",
     "output_type": "stream",
     "text": [
      "Observed Contingency Table:\n",
      "is_canceled          0      1\n",
      "customer_type                \n",
      "Contract          2814   1262\n",
      "Group              518     59\n",
      "Transient        53099  36514\n",
      "Transient-Party  18735   6389\n"
     ]
    }
   ],
   "source": [
    "    observed_table = pd.crosstab(df['customer_type'], df['is_canceled'])\n",
    "print(\"Observed Contingency Table:\")\n",
    "print(observed_table)"
   ]
  },
  {
   "cell_type": "code",
   "execution_count": 60,
   "id": "5fb037f8",
   "metadata": {},
   "outputs": [],
   "source": [
    "chi2, p, dof, expected = chi2_contingency(observed_table)"
   ]
  },
  {
   "cell_type": "code",
   "execution_count": 61,
   "id": "1b451d71",
   "metadata": {},
   "outputs": [
    {
     "name": "stdout",
     "output_type": "stream",
     "text": [
      "\n",
      "Chi-squared Test Statistics:\n",
      "Chi2: 2222.50416048372\n",
      "P-value: 0.0\n",
      "Degrees of Freedom: 3\n",
      "\n",
      "Expected Frequencies:\n",
      "[[ 2566.18323143  1509.81676857]\n",
      " [  363.26980484   213.73019516]\n",
      " [56418.88565206 33194.11434794]\n",
      " [15817.66131167  9306.33868833]]\n"
     ]
    }
   ],
   "source": [
    "print(\"\\nChi-squared Test Statistics:\")\n",
    "print(f\"Chi2: {chi2}\")\n",
    "print(f\"P-value: {p}\")\n",
    "print(f\"Degrees of Freedom: {dof}\")\n",
    "print(\"\\nExpected Frequencies:\")\n",
    "print(expected) \n"
   ]
  },
  {
   "cell_type": "markdown",
   "id": "64133209",
   "metadata": {},
   "source": [
    "# ADR"
   ]
  },
  {
   "cell_type": "code",
   "execution_count": 62,
   "id": "e2d65de4",
   "metadata": {},
   "outputs": [
    {
     "data": {
      "text/plain": [
       "count    119390.000000\n",
       "mean        101.831122\n",
       "std          50.535790\n",
       "min          -6.380000\n",
       "25%          69.290000\n",
       "50%          94.575000\n",
       "75%         126.000000\n",
       "max        5400.000000\n",
       "Name: adr, dtype: float64"
      ]
     },
     "execution_count": 62,
     "metadata": {},
     "output_type": "execute_result"
    }
   ],
   "source": [
    "df['adr'].describe()"
   ]
  },
  {
   "cell_type": "code",
   "execution_count": 63,
   "id": "ebfc4b80",
   "metadata": {},
   "outputs": [
    {
     "data": {
      "image/png": "[encoded data removed]",
      "text/plain": [
       "<Figure size 640x480 with 1 Axes>"
      ]
     },
     "metadata": {},
     "output_type": "display_data"
    }
   ],
   "source": [
    "plt.boxplot(df['adr'])\n",
    "plt.title('Box and Whisker Plot of ADR')\n",
    "plt.show()"
   ]
  },
  {
   "cell_type": "code",
   "execution_count": 64,
   "id": "ccfdeb8b",
   "metadata": {},
   "outputs": [
    {
     "data": {
      "text/plain": [
       "0.0475565978803858"
      ]
     },
     "execution_count": 64,
     "metadata": {},
     "output_type": "execute_result"
    }
   ],
   "source": [
    "df['adr'].corr(df['is_canceled'])"
   ]
  },
  {
   "cell_type": "markdown",
   "id": "925320c1",
   "metadata": {},
   "source": [
    "# Required Car Parking Spaces"
   ]
  },
  {
   "cell_type": "code",
   "execution_count": 66,
   "id": "04c60a9e",
   "metadata": {},
   "outputs": [
    {
     "data": {
      "text/plain": [
       "0"
      ]
     },
     "execution_count": 66,
     "metadata": {},
     "output_type": "execute_result"
    }
   ],
   "source": [
    "df['required_car_parking_spaces'].min()\n",
    "\n"
   ]
  },
  {
   "cell_type": "code",
   "execution_count": 67,
   "id": "9931b16d",
   "metadata": {},
   "outputs": [
    {
     "data": {
      "text/plain": [
       "8"
      ]
     },
     "execution_count": 67,
     "metadata": {},
     "output_type": "execute_result"
    }
   ],
   "source": [
    "df['required_car_parking_spaces'].max()"
   ]
  },
  {
   "cell_type": "code",
   "execution_count": 68,
   "id": "45aebaa7",
   "metadata": {},
   "outputs": [
    {
     "data": {
      "image/png": "[encoded data removed]",
      "text/plain": [
       "<Figure size 640x480 with 1 Axes>"
      ]
     },
     "metadata": {},
     "output_type": "display_data"
    }
   ],
   "source": [
    "sns.countplot(x='required_car_parking_spaces', data=df)\n",
    "plt.title('Distribution of Car Parking Spaces')\n",
    "plt.show()"
   ]
  },
  {
   "cell_type": "code",
   "execution_count": 69,
   "id": "a3f544fc",
   "metadata": {},
   "outputs": [
    {
     "data": {
      "text/plain": [
       "-0.19549781749450643"
      ]
     },
     "execution_count": 69,
     "metadata": {},
     "output_type": "execute_result"
    }
   ],
   "source": [
    "df['required_car_parking_spaces'].corr(df['is_canceled'])"
   ]
  },
  {
   "cell_type": "markdown",
   "id": "ba1be902",
   "metadata": {},
   "source": [
    "# Total Special Requests"
   ]
  },
  {
   "cell_type": "code",
   "execution_count": 70,
   "id": "d3c4aad3",
   "metadata": {},
   "outputs": [
    {
     "data": {
      "text/plain": [
       "count    119390.000000\n",
       "mean          0.571363\n",
       "std           0.792798\n",
       "min           0.000000\n",
       "25%           0.000000\n",
       "50%           0.000000\n",
       "75%           1.000000\n",
       "max           5.000000\n",
       "Name: total_of_special_requests, dtype: float64"
      ]
     },
     "execution_count": 70,
     "metadata": {},
     "output_type": "execute_result"
    }
   ],
   "source": [
    "df['total_of_special_requests'].describe()"
   ]
  },
  {
   "cell_type": "code",
   "execution_count": 71,
   "id": "b95d3e97",
   "metadata": {},
   "outputs": [
    {
     "data": {
      "text/plain": [
       "-0.2346577739690237"
      ]
     },
     "execution_count": 71,
     "metadata": {},
     "output_type": "execute_result"
    }
   ],
   "source": [
    "df['total_of_special_requests'].corr(df['is_canceled'])"
   ]
  },
  {
   "cell_type": "markdown",
   "id": "4ee04f6b",
   "metadata": {},
   "source": [
    "# Reservation Status"
   ]
  },
  {
   "cell_type": "code",
   "execution_count": 72,
   "id": "666f7525",
   "metadata": {},
   "outputs": [
    {
     "data": {
      "text/plain": [
       "Check-Out    75166\n",
       "Canceled     43017\n",
       "No-Show       1207\n",
       "Name: reservation_status, dtype: int64"
      ]
     },
     "execution_count": 72,
     "metadata": {},
     "output_type": "execute_result"
    }
   ],
   "source": [
    "df['reservation_status'].value_counts()"
   ]
  },
  {
   "cell_type": "code",
   "execution_count": 73,
   "id": "d42fedad",
   "metadata": {},
   "outputs": [],
   "source": [
    "\n",
    "data = np.array([75166,43017,1207])"
   ]
  },
  {
   "cell_type": "code",
   "execution_count": 74,
   "id": "3348e457",
   "metadata": {},
   "outputs": [],
   "source": [
    "mylabels = ['Check-Out','Canceled','No-Show']"
   ]
  },
  {
   "cell_type": "code",
   "execution_count": 75,
   "id": "72c7e202",
   "metadata": {},
   "outputs": [
    {
     "data": {
      "image/png": "[encoded data removed]",
      "text/plain": [
       "<Figure size 640x480 with 1 Axes>"
      ]
     },
     "metadata": {},
     "output_type": "display_data"
    }
   ],
   "source": [
    "plt.pie(data, labels=mylabels, autopct='%1.1f%%')\n",
    "plt.title('Pie Chart of Reserved Rooms')\n",
    "plt.show()"
   ]
  },
  {
   "cell_type": "code",
   "execution_count": 76,
   "id": "4a434752",
   "metadata": {},
   "outputs": [
    {
     "name": "stdout",
     "output_type": "stream",
     "text": [
      "Observed Contingency Table:\n",
      "is_canceled          0      1\n",
      "customer_type                \n",
      "Contract          2814   1262\n",
      "Group              518     59\n",
      "Transient        53099  36514\n",
      "Transient-Party  18735   6389\n"
     ]
    }
   ],
   "source": [
    "observed_table = pd.crosstab(df['customer_type'], df['is_canceled'])\n",
    "print(\"Observed Contingency Table:\")\n",
    "print(observed_table)"
   ]
  },
  {
   "cell_type": "code",
   "execution_count": 77,
   "id": "3551503c",
   "metadata": {},
   "outputs": [],
   "source": [
    "chi2, p, dof, expected = chi2_contingency(observed_table)"
   ]
  },
  {
   "cell_type": "code",
   "execution_count": 78,
   "id": "eaf8b632",
   "metadata": {},
   "outputs": [
    {
     "name": "stdout",
     "output_type": "stream",
     "text": [
      "\n",
      "Chi-squared Test Statistics:\n",
      "Chi2: 2222.50416048372\n",
      "P-value: 0.0\n",
      "Degrees of Freedom: 3\n",
      "\n",
      "Expected Frequencies:\n",
      "[[ 2566.18323143  1509.81676857]\n",
      " [  363.26980484   213.73019516]\n",
      " [56418.88565206 33194.11434794]\n",
      " [15817.66131167  9306.33868833]]\n"
     ]
    }
   ],
   "source": [
    "print(\"\\nChi-squared Test Statistics:\")\n",
    "print(f\"Chi2: {chi2}\")\n",
    "print(f\"P-value: {p}\")\n",
    "print(f\"Degrees of Freedom: {dof}\")\n",
    "print(\"\\nExpected Frequencies:\")\n",
    "print(expected) "
   ]
  },
  {
   "cell_type": "markdown",
   "id": "60bb28f2",
   "metadata": {},
   "source": [
    "# Reservation Status Date"
   ]
  },
  {
   "cell_type": "code",
   "execution_count": 79,
   "id": "a9770cd2",
   "metadata": {},
   "outputs": [
    {
     "data": {
      "text/plain": [
       "21/10/2015    1461\n",
       "06/07/2015     805\n",
       "25/11/2016     790\n",
       "01/01/2015     763\n",
       "18/01/2016     625\n",
       "              ... \n",
       "27/02/2015       1\n",
       "25/04/2015       1\n",
       "11/03/2015       1\n",
       "14/06/2015       1\n",
       "12/02/2015       1\n",
       "Name: reservation_status_date, Length: 926, dtype: int64"
      ]
     },
     "execution_count": 79,
     "metadata": {},
     "output_type": "execute_result"
    }
   ],
   "source": [
    "df['reservation_status_date'].value_counts()"
   ]
  },
  {
   "cell_type": "code",
   "execution_count": null,
   "id": "7c126b06",
   "metadata": {},
   "outputs": [],
   "source": []
  }
 ],
 "metadata": {
  "kernelspec": {
   "display_name": "Python 3 (ipykernel)",
   "language": "python",
   "name": "python3"
  },
  "language_info": {
   "codemirror_mode": {
    "name": "ipython",
    "version": 3
   },
   "file_extension": ".py",
   "mimetype": "text/x-python",
   "name": "python",
   "nbconvert_exporter": "python",
   "pygments_lexer": "ipython3",
   "version": "3.9.13"
  }
 },
 "nbformat": 4,
 "nbformat_minor": 5
}

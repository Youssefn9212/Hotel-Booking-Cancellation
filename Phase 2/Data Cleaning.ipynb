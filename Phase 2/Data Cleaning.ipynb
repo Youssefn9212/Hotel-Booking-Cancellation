{
 "cells": [
  {
   "cell_type": "markdown",
   "id": "1214c321",
   "metadata": {},
   "source": [
    "# Data Cleaning\n",
    "Youssef Nakhla 900201430\n",
    "Karim AbouDaoud 900212779\n"
   ]
  },
  {
   "cell_type": "code",
   "execution_count": 1,
   "id": "7ec02d2c",
   "metadata": {},
   "outputs": [],
   "source": [
    "import pandas as pd\n",
    "import numpy as np\n",
    "import plotly.express as px\n",
    "import plotly.graph_objects as go\n",
    "import scipy.stats\n",
    "import plotly.figure_factory as ff\n",
    "import seaborn as sns\n",
    "from scipy.stats import f_oneway\n",
    "import matplotlib.pyplot as plt\n",
    "from sklearn.preprocessing import MinMaxScaler"
   ]
  },
  {
   "cell_type": "code",
   "execution_count": 2,
   "id": "35317c64",
   "metadata": {},
   "outputs": [
    {
     "data": {
      "text/html": [
       "<div>\n",
       "<style scoped>\n",
       "    .dataframe tbody tr th:only-of-type {\n",
       "        vertical-align: middle;\n",
       "    }\n",
       "\n",
       "    .dataframe tbody tr th {\n",
       "        vertical-align: top;\n",
       "    }\n",
       "\n",
       "    .dataframe thead th {\n",
       "        text-align: right;\n",
       "    }\n",
       "</style>\n",
       "<table border=\"1\" class=\"dataframe\">\n",
       "  <thead>\n",
       "    <tr style=\"text-align: right;\">\n",
       "      <th></th>\n",
       "      <th>hotel</th>\n",
       "      <th>is_canceled</th>\n",
       "      <th>lead_time</th>\n",
       "      <th>arrival_date_year</th>\n",
       "      <th>arrival_date_month</th>\n",
       "      <th>arrival_date_week_number</th>\n",
       "      <th>arrival_date_day_of_month</th>\n",
       "      <th>stays_in_weekend_nights</th>\n",
       "      <th>stays_in_week_nights</th>\n",
       "      <th>adults</th>\n",
       "      <th>...</th>\n",
       "      <th>deposit_type</th>\n",
       "      <th>agent</th>\n",
       "      <th>company</th>\n",
       "      <th>days_in_waiting_list</th>\n",
       "      <th>customer_type</th>\n",
       "      <th>adr</th>\n",
       "      <th>required_car_parking_spaces</th>\n",
       "      <th>total_of_special_requests</th>\n",
       "      <th>reservation_status</th>\n",
       "      <th>reservation_status_date</th>\n",
       "    </tr>\n",
       "  </thead>\n",
       "  <tbody>\n",
       "    <tr>\n",
       "      <th>0</th>\n",
       "      <td>Resort Hotel</td>\n",
       "      <td>0</td>\n",
       "      <td>342</td>\n",
       "      <td>2015</td>\n",
       "      <td>July</td>\n",
       "      <td>27</td>\n",
       "      <td>1</td>\n",
       "      <td>0</td>\n",
       "      <td>0</td>\n",
       "      <td>2</td>\n",
       "      <td>...</td>\n",
       "      <td>No Deposit</td>\n",
       "      <td>NaN</td>\n",
       "      <td>NaN</td>\n",
       "      <td>0</td>\n",
       "      <td>Transient</td>\n",
       "      <td>0.0</td>\n",
       "      <td>0</td>\n",
       "      <td>0</td>\n",
       "      <td>Check-Out</td>\n",
       "      <td>01/07/2015</td>\n",
       "    </tr>\n",
       "    <tr>\n",
       "      <th>1</th>\n",
       "      <td>Resort Hotel</td>\n",
       "      <td>0</td>\n",
       "      <td>737</td>\n",
       "      <td>2015</td>\n",
       "      <td>July</td>\n",
       "      <td>27</td>\n",
       "      <td>1</td>\n",
       "      <td>0</td>\n",
       "      <td>0</td>\n",
       "      <td>2</td>\n",
       "      <td>...</td>\n",
       "      <td>No Deposit</td>\n",
       "      <td>NaN</td>\n",
       "      <td>NaN</td>\n",
       "      <td>0</td>\n",
       "      <td>Transient</td>\n",
       "      <td>0.0</td>\n",
       "      <td>0</td>\n",
       "      <td>0</td>\n",
       "      <td>Check-Out</td>\n",
       "      <td>01/07/2015</td>\n",
       "    </tr>\n",
       "    <tr>\n",
       "      <th>2</th>\n",
       "      <td>Resort Hotel</td>\n",
       "      <td>0</td>\n",
       "      <td>7</td>\n",
       "      <td>2015</td>\n",
       "      <td>July</td>\n",
       "      <td>27</td>\n",
       "      <td>1</td>\n",
       "      <td>0</td>\n",
       "      <td>1</td>\n",
       "      <td>1</td>\n",
       "      <td>...</td>\n",
       "      <td>No Deposit</td>\n",
       "      <td>NaN</td>\n",
       "      <td>NaN</td>\n",
       "      <td>0</td>\n",
       "      <td>Transient</td>\n",
       "      <td>75.0</td>\n",
       "      <td>0</td>\n",
       "      <td>0</td>\n",
       "      <td>Check-Out</td>\n",
       "      <td>02/07/2015</td>\n",
       "    </tr>\n",
       "    <tr>\n",
       "      <th>3</th>\n",
       "      <td>Resort Hotel</td>\n",
       "      <td>0</td>\n",
       "      <td>13</td>\n",
       "      <td>2015</td>\n",
       "      <td>July</td>\n",
       "      <td>27</td>\n",
       "      <td>1</td>\n",
       "      <td>0</td>\n",
       "      <td>1</td>\n",
       "      <td>1</td>\n",
       "      <td>...</td>\n",
       "      <td>No Deposit</td>\n",
       "      <td>304.0</td>\n",
       "      <td>NaN</td>\n",
       "      <td>0</td>\n",
       "      <td>Transient</td>\n",
       "      <td>75.0</td>\n",
       "      <td>0</td>\n",
       "      <td>0</td>\n",
       "      <td>Check-Out</td>\n",
       "      <td>02/07/2015</td>\n",
       "    </tr>\n",
       "    <tr>\n",
       "      <th>4</th>\n",
       "      <td>Resort Hotel</td>\n",
       "      <td>0</td>\n",
       "      <td>14</td>\n",
       "      <td>2015</td>\n",
       "      <td>July</td>\n",
       "      <td>27</td>\n",
       "      <td>1</td>\n",
       "      <td>0</td>\n",
       "      <td>2</td>\n",
       "      <td>2</td>\n",
       "      <td>...</td>\n",
       "      <td>No Deposit</td>\n",
       "      <td>240.0</td>\n",
       "      <td>NaN</td>\n",
       "      <td>0</td>\n",
       "      <td>Transient</td>\n",
       "      <td>98.0</td>\n",
       "      <td>0</td>\n",
       "      <td>1</td>\n",
       "      <td>Check-Out</td>\n",
       "      <td>03/07/2015</td>\n",
       "    </tr>\n",
       "  </tbody>\n",
       "</table>\n",
       "<p>5 rows × 32 columns</p>\n",
       "</div>"
      ],
      "text/plain": [
       "          hotel  is_canceled  lead_time  arrival_date_year arrival_date_month  \\\n",
       "0  Resort Hotel            0        342               2015               July   \n",
       "1  Resort Hotel            0        737               2015               July   \n",
       "2  Resort Hotel            0          7               2015               July   \n",
       "3  Resort Hotel            0         13               2015               July   \n",
       "4  Resort Hotel            0         14               2015               July   \n",
       "\n",
       "   arrival_date_week_number  arrival_date_day_of_month  \\\n",
       "0                        27                          1   \n",
       "1                        27                          1   \n",
       "2                        27                          1   \n",
       "3                        27                          1   \n",
       "4                        27                          1   \n",
       "\n",
       "   stays_in_weekend_nights  stays_in_week_nights  adults  ...  deposit_type  \\\n",
       "0                        0                     0       2  ...    No Deposit   \n",
       "1                        0                     0       2  ...    No Deposit   \n",
       "2                        0                     1       1  ...    No Deposit   \n",
       "3                        0                     1       1  ...    No Deposit   \n",
       "4                        0                     2       2  ...    No Deposit   \n",
       "\n",
       "   agent company days_in_waiting_list customer_type   adr  \\\n",
       "0    NaN     NaN                    0     Transient   0.0   \n",
       "1    NaN     NaN                    0     Transient   0.0   \n",
       "2    NaN     NaN                    0     Transient  75.0   \n",
       "3  304.0     NaN                    0     Transient  75.0   \n",
       "4  240.0     NaN                    0     Transient  98.0   \n",
       "\n",
       "   required_car_parking_spaces  total_of_special_requests  reservation_status  \\\n",
       "0                            0                          0           Check-Out   \n",
       "1                            0                          0           Check-Out   \n",
       "2                            0                          0           Check-Out   \n",
       "3                            0                          0           Check-Out   \n",
       "4                            0                          1           Check-Out   \n",
       "\n",
       "  reservation_status_date  \n",
       "0              01/07/2015  \n",
       "1              01/07/2015  \n",
       "2              02/07/2015  \n",
       "3              02/07/2015  \n",
       "4              03/07/2015  \n",
       "\n",
       "[5 rows x 32 columns]"
      ]
     },
     "execution_count": 2,
     "metadata": {},
     "output_type": "execute_result"
    }
   ],
   "source": [
    "df=pd.read_csv(\"hotel_bookings.csv\")\n",
    "df.head()"
   ]
  },
  {
   "cell_type": "markdown",
   "id": "55510f4a",
   "metadata": {},
   "source": [
    "# Checking For NA's"
   ]
  },
  {
   "cell_type": "code",
   "execution_count": 3,
   "id": "9ff5c814",
   "metadata": {},
   "outputs": [
    {
     "data": {
      "text/plain": [
       "hotel                                  0\n",
       "is_canceled                            0\n",
       "lead_time                              0\n",
       "arrival_date_year                      0\n",
       "arrival_date_month                     0\n",
       "arrival_date_week_number               0\n",
       "arrival_date_day_of_month              0\n",
       "stays_in_weekend_nights                0\n",
       "stays_in_week_nights                   0\n",
       "adults                                 0\n",
       "children                               4\n",
       "babies                                 0\n",
       "meal                                   0\n",
       "country                              488\n",
       "market_segment                         0\n",
       "distribution_channel                   0\n",
       "is_repeated_guest                      0\n",
       "previous_cancellations                 0\n",
       "previous_bookings_not_canceled         0\n",
       "reserved_room_type                     0\n",
       "assigned_room_type                     0\n",
       "booking_changes                        0\n",
       "deposit_type                           0\n",
       "agent                              16340\n",
       "company                           112593\n",
       "days_in_waiting_list                   0\n",
       "customer_type                          0\n",
       "adr                                    0\n",
       "required_car_parking_spaces            0\n",
       "total_of_special_requests              0\n",
       "reservation_status                     0\n",
       "reservation_status_date                0\n",
       "dtype: int64"
      ]
     },
     "execution_count": 3,
     "metadata": {},
     "output_type": "execute_result"
    }
   ],
   "source": [
    "df.isnull().sum()"
   ]
  },
  {
   "cell_type": "code",
   "execution_count": 4,
   "id": "6f7f156d",
   "metadata": {},
   "outputs": [],
   "source": [
    "#dropping 4 NAs of variable children\n",
    "df.dropna(subset=[\"children\"],inplace=True) "
   ]
  },
  {
   "cell_type": "code",
   "execution_count": 5,
   "id": "3c25366a",
   "metadata": {},
   "outputs": [],
   "source": [
    "#94% of company is missing so it will be dropped\n",
    "df=df.drop([\"company\"],axis=1) "
   ]
  },
  {
   "cell_type": "code",
   "execution_count": 6,
   "id": "acce934b",
   "metadata": {},
   "outputs": [],
   "source": [
    "df=df.drop([\"agent\"],axis=1) "
   ]
  },
  {
   "cell_type": "code",
   "execution_count": 7,
   "id": "dead3a3f",
   "metadata": {},
   "outputs": [
    {
     "data": {
      "text/plain": [
       "PRT    48586\n",
       "GBR    12129\n",
       "FRA    10415\n",
       "ESP     8568\n",
       "DEU     7287\n",
       "       ...  \n",
       "DJI        1\n",
       "BWA        1\n",
       "HND        1\n",
       "VGB        1\n",
       "NAM        1\n",
       "Name: country, Length: 177, dtype: int64"
      ]
     },
     "execution_count": 7,
     "metadata": {},
     "output_type": "execute_result"
    }
   ],
   "source": [
    "df[\"country\"].value_counts()"
   ]
  },
  {
   "cell_type": "code",
   "execution_count": 8,
   "id": "e9502f10",
   "metadata": {},
   "outputs": [
    {
     "data": {
      "text/plain": [
       "488"
      ]
     },
     "execution_count": 8,
     "metadata": {},
     "output_type": "execute_result"
    }
   ],
   "source": [
    "df[\"country\"].isnull().sum()"
   ]
  },
  {
   "cell_type": "code",
   "execution_count": 9,
   "id": "40e1b681",
   "metadata": {},
   "outputs": [],
   "source": [
    "df[\"country\"].fillna(df[\"country\"].mode()[0], inplace=True) #filling NAs with the most frequent values"
   ]
  },
  {
   "cell_type": "code",
   "execution_count": 10,
   "id": "b9f0308e",
   "metadata": {},
   "outputs": [
    {
     "data": {
      "text/plain": [
       "hotel                             0\n",
       "is_canceled                       0\n",
       "lead_time                         0\n",
       "arrival_date_year                 0\n",
       "arrival_date_month                0\n",
       "arrival_date_week_number          0\n",
       "arrival_date_day_of_month         0\n",
       "stays_in_weekend_nights           0\n",
       "stays_in_week_nights              0\n",
       "adults                            0\n",
       "children                          0\n",
       "babies                            0\n",
       "meal                              0\n",
       "country                           0\n",
       "market_segment                    0\n",
       "distribution_channel              0\n",
       "is_repeated_guest                 0\n",
       "previous_cancellations            0\n",
       "previous_bookings_not_canceled    0\n",
       "reserved_room_type                0\n",
       "assigned_room_type                0\n",
       "booking_changes                   0\n",
       "deposit_type                      0\n",
       "days_in_waiting_list              0\n",
       "customer_type                     0\n",
       "adr                               0\n",
       "required_car_parking_spaces       0\n",
       "total_of_special_requests         0\n",
       "reservation_status                0\n",
       "reservation_status_date           0\n",
       "dtype: int64"
      ]
     },
     "execution_count": 10,
     "metadata": {},
     "output_type": "execute_result"
    }
   ],
   "source": [
    "df.isnull().sum()"
   ]
  },
  {
   "cell_type": "markdown",
   "id": "f20a8e14",
   "metadata": {},
   "source": [
    "# Hotel"
   ]
  },
  {
   "cell_type": "code",
   "execution_count": 11,
   "id": "de72d57b",
   "metadata": {},
   "outputs": [
    {
     "data": {
      "text/plain": [
       "array(['Resort Hotel', 'City Hotel'], dtype=object)"
      ]
     },
     "execution_count": 11,
     "metadata": {},
     "output_type": "execute_result"
    }
   ],
   "source": [
    "class_names = df[\"hotel\"].unique()\n",
    "class_names"
   ]
  },
  {
   "cell_type": "code",
   "execution_count": 12,
   "id": "f74ea1c4",
   "metadata": {},
   "outputs": [
    {
     "data": {
      "text/html": [
       "<div>\n",
       "<style scoped>\n",
       "    .dataframe tbody tr th:only-of-type {\n",
       "        vertical-align: middle;\n",
       "    }\n",
       "\n",
       "    .dataframe tbody tr th {\n",
       "        vertical-align: top;\n",
       "    }\n",
       "\n",
       "    .dataframe thead th {\n",
       "        text-align: right;\n",
       "    }\n",
       "</style>\n",
       "<table border=\"1\" class=\"dataframe\">\n",
       "  <thead>\n",
       "    <tr style=\"text-align: right;\">\n",
       "      <th></th>\n",
       "      <th>hotel</th>\n",
       "      <th>is_canceled</th>\n",
       "      <th>lead_time</th>\n",
       "      <th>arrival_date_year</th>\n",
       "      <th>arrival_date_month</th>\n",
       "      <th>arrival_date_week_number</th>\n",
       "      <th>arrival_date_day_of_month</th>\n",
       "      <th>stays_in_weekend_nights</th>\n",
       "      <th>stays_in_week_nights</th>\n",
       "      <th>adults</th>\n",
       "      <th>...</th>\n",
       "      <th>assigned_room_type</th>\n",
       "      <th>booking_changes</th>\n",
       "      <th>deposit_type</th>\n",
       "      <th>days_in_waiting_list</th>\n",
       "      <th>customer_type</th>\n",
       "      <th>adr</th>\n",
       "      <th>required_car_parking_spaces</th>\n",
       "      <th>total_of_special_requests</th>\n",
       "      <th>reservation_status</th>\n",
       "      <th>reservation_status_date</th>\n",
       "    </tr>\n",
       "  </thead>\n",
       "  <tbody>\n",
       "    <tr>\n",
       "      <th>0</th>\n",
       "      <td>0</td>\n",
       "      <td>0</td>\n",
       "      <td>342</td>\n",
       "      <td>2015</td>\n",
       "      <td>July</td>\n",
       "      <td>27</td>\n",
       "      <td>1</td>\n",
       "      <td>0</td>\n",
       "      <td>0</td>\n",
       "      <td>2</td>\n",
       "      <td>...</td>\n",
       "      <td>C</td>\n",
       "      <td>3</td>\n",
       "      <td>No Deposit</td>\n",
       "      <td>0</td>\n",
       "      <td>Transient</td>\n",
       "      <td>0.00</td>\n",
       "      <td>0</td>\n",
       "      <td>0</td>\n",
       "      <td>Check-Out</td>\n",
       "      <td>01/07/2015</td>\n",
       "    </tr>\n",
       "    <tr>\n",
       "      <th>1</th>\n",
       "      <td>0</td>\n",
       "      <td>0</td>\n",
       "      <td>737</td>\n",
       "      <td>2015</td>\n",
       "      <td>July</td>\n",
       "      <td>27</td>\n",
       "      <td>1</td>\n",
       "      <td>0</td>\n",
       "      <td>0</td>\n",
       "      <td>2</td>\n",
       "      <td>...</td>\n",
       "      <td>C</td>\n",
       "      <td>4</td>\n",
       "      <td>No Deposit</td>\n",
       "      <td>0</td>\n",
       "      <td>Transient</td>\n",
       "      <td>0.00</td>\n",
       "      <td>0</td>\n",
       "      <td>0</td>\n",
       "      <td>Check-Out</td>\n",
       "      <td>01/07/2015</td>\n",
       "    </tr>\n",
       "    <tr>\n",
       "      <th>2</th>\n",
       "      <td>0</td>\n",
       "      <td>0</td>\n",
       "      <td>7</td>\n",
       "      <td>2015</td>\n",
       "      <td>July</td>\n",
       "      <td>27</td>\n",
       "      <td>1</td>\n",
       "      <td>0</td>\n",
       "      <td>1</td>\n",
       "      <td>1</td>\n",
       "      <td>...</td>\n",
       "      <td>C</td>\n",
       "      <td>0</td>\n",
       "      <td>No Deposit</td>\n",
       "      <td>0</td>\n",
       "      <td>Transient</td>\n",
       "      <td>75.00</td>\n",
       "      <td>0</td>\n",
       "      <td>0</td>\n",
       "      <td>Check-Out</td>\n",
       "      <td>02/07/2015</td>\n",
       "    </tr>\n",
       "    <tr>\n",
       "      <th>3</th>\n",
       "      <td>0</td>\n",
       "      <td>0</td>\n",
       "      <td>13</td>\n",
       "      <td>2015</td>\n",
       "      <td>July</td>\n",
       "      <td>27</td>\n",
       "      <td>1</td>\n",
       "      <td>0</td>\n",
       "      <td>1</td>\n",
       "      <td>1</td>\n",
       "      <td>...</td>\n",
       "      <td>A</td>\n",
       "      <td>0</td>\n",
       "      <td>No Deposit</td>\n",
       "      <td>0</td>\n",
       "      <td>Transient</td>\n",
       "      <td>75.00</td>\n",
       "      <td>0</td>\n",
       "      <td>0</td>\n",
       "      <td>Check-Out</td>\n",
       "      <td>02/07/2015</td>\n",
       "    </tr>\n",
       "    <tr>\n",
       "      <th>4</th>\n",
       "      <td>0</td>\n",
       "      <td>0</td>\n",
       "      <td>14</td>\n",
       "      <td>2015</td>\n",
       "      <td>July</td>\n",
       "      <td>27</td>\n",
       "      <td>1</td>\n",
       "      <td>0</td>\n",
       "      <td>2</td>\n",
       "      <td>2</td>\n",
       "      <td>...</td>\n",
       "      <td>A</td>\n",
       "      <td>0</td>\n",
       "      <td>No Deposit</td>\n",
       "      <td>0</td>\n",
       "      <td>Transient</td>\n",
       "      <td>98.00</td>\n",
       "      <td>0</td>\n",
       "      <td>1</td>\n",
       "      <td>Check-Out</td>\n",
       "      <td>03/07/2015</td>\n",
       "    </tr>\n",
       "    <tr>\n",
       "      <th>...</th>\n",
       "      <td>...</td>\n",
       "      <td>...</td>\n",
       "      <td>...</td>\n",
       "      <td>...</td>\n",
       "      <td>...</td>\n",
       "      <td>...</td>\n",
       "      <td>...</td>\n",
       "      <td>...</td>\n",
       "      <td>...</td>\n",
       "      <td>...</td>\n",
       "      <td>...</td>\n",
       "      <td>...</td>\n",
       "      <td>...</td>\n",
       "      <td>...</td>\n",
       "      <td>...</td>\n",
       "      <td>...</td>\n",
       "      <td>...</td>\n",
       "      <td>...</td>\n",
       "      <td>...</td>\n",
       "      <td>...</td>\n",
       "      <td>...</td>\n",
       "    </tr>\n",
       "    <tr>\n",
       "      <th>119385</th>\n",
       "      <td>1</td>\n",
       "      <td>0</td>\n",
       "      <td>23</td>\n",
       "      <td>2017</td>\n",
       "      <td>August</td>\n",
       "      <td>35</td>\n",
       "      <td>30</td>\n",
       "      <td>2</td>\n",
       "      <td>5</td>\n",
       "      <td>2</td>\n",
       "      <td>...</td>\n",
       "      <td>A</td>\n",
       "      <td>0</td>\n",
       "      <td>No Deposit</td>\n",
       "      <td>0</td>\n",
       "      <td>Transient</td>\n",
       "      <td>96.14</td>\n",
       "      <td>0</td>\n",
       "      <td>0</td>\n",
       "      <td>Check-Out</td>\n",
       "      <td>06/09/2017</td>\n",
       "    </tr>\n",
       "    <tr>\n",
       "      <th>119386</th>\n",
       "      <td>1</td>\n",
       "      <td>0</td>\n",
       "      <td>102</td>\n",
       "      <td>2017</td>\n",
       "      <td>August</td>\n",
       "      <td>35</td>\n",
       "      <td>31</td>\n",
       "      <td>2</td>\n",
       "      <td>5</td>\n",
       "      <td>3</td>\n",
       "      <td>...</td>\n",
       "      <td>E</td>\n",
       "      <td>0</td>\n",
       "      <td>No Deposit</td>\n",
       "      <td>0</td>\n",
       "      <td>Transient</td>\n",
       "      <td>225.43</td>\n",
       "      <td>0</td>\n",
       "      <td>2</td>\n",
       "      <td>Check-Out</td>\n",
       "      <td>07/09/2017</td>\n",
       "    </tr>\n",
       "    <tr>\n",
       "      <th>119387</th>\n",
       "      <td>1</td>\n",
       "      <td>0</td>\n",
       "      <td>34</td>\n",
       "      <td>2017</td>\n",
       "      <td>August</td>\n",
       "      <td>35</td>\n",
       "      <td>31</td>\n",
       "      <td>2</td>\n",
       "      <td>5</td>\n",
       "      <td>2</td>\n",
       "      <td>...</td>\n",
       "      <td>D</td>\n",
       "      <td>0</td>\n",
       "      <td>No Deposit</td>\n",
       "      <td>0</td>\n",
       "      <td>Transient</td>\n",
       "      <td>157.71</td>\n",
       "      <td>0</td>\n",
       "      <td>4</td>\n",
       "      <td>Check-Out</td>\n",
       "      <td>07/09/2017</td>\n",
       "    </tr>\n",
       "    <tr>\n",
       "      <th>119388</th>\n",
       "      <td>1</td>\n",
       "      <td>0</td>\n",
       "      <td>109</td>\n",
       "      <td>2017</td>\n",
       "      <td>August</td>\n",
       "      <td>35</td>\n",
       "      <td>31</td>\n",
       "      <td>2</td>\n",
       "      <td>5</td>\n",
       "      <td>2</td>\n",
       "      <td>...</td>\n",
       "      <td>A</td>\n",
       "      <td>0</td>\n",
       "      <td>No Deposit</td>\n",
       "      <td>0</td>\n",
       "      <td>Transient</td>\n",
       "      <td>104.40</td>\n",
       "      <td>0</td>\n",
       "      <td>0</td>\n",
       "      <td>Check-Out</td>\n",
       "      <td>07/09/2017</td>\n",
       "    </tr>\n",
       "    <tr>\n",
       "      <th>119389</th>\n",
       "      <td>1</td>\n",
       "      <td>0</td>\n",
       "      <td>205</td>\n",
       "      <td>2017</td>\n",
       "      <td>August</td>\n",
       "      <td>35</td>\n",
       "      <td>29</td>\n",
       "      <td>2</td>\n",
       "      <td>7</td>\n",
       "      <td>2</td>\n",
       "      <td>...</td>\n",
       "      <td>A</td>\n",
       "      <td>0</td>\n",
       "      <td>No Deposit</td>\n",
       "      <td>0</td>\n",
       "      <td>Transient</td>\n",
       "      <td>151.20</td>\n",
       "      <td>0</td>\n",
       "      <td>2</td>\n",
       "      <td>Check-Out</td>\n",
       "      <td>07/09/2017</td>\n",
       "    </tr>\n",
       "  </tbody>\n",
       "</table>\n",
       "<p>119386 rows × 30 columns</p>\n",
       "</div>"
      ],
      "text/plain": [
       "       hotel  is_canceled  lead_time  arrival_date_year arrival_date_month  \\\n",
       "0          0            0        342               2015               July   \n",
       "1          0            0        737               2015               July   \n",
       "2          0            0          7               2015               July   \n",
       "3          0            0         13               2015               July   \n",
       "4          0            0         14               2015               July   \n",
       "...      ...          ...        ...                ...                ...   \n",
       "119385     1            0         23               2017             August   \n",
       "119386     1            0        102               2017             August   \n",
       "119387     1            0         34               2017             August   \n",
       "119388     1            0        109               2017             August   \n",
       "119389     1            0        205               2017             August   \n",
       "\n",
       "        arrival_date_week_number  arrival_date_day_of_month  \\\n",
       "0                             27                          1   \n",
       "1                             27                          1   \n",
       "2                             27                          1   \n",
       "3                             27                          1   \n",
       "4                             27                          1   \n",
       "...                          ...                        ...   \n",
       "119385                        35                         30   \n",
       "119386                        35                         31   \n",
       "119387                        35                         31   \n",
       "119388                        35                         31   \n",
       "119389                        35                         29   \n",
       "\n",
       "        stays_in_weekend_nights  stays_in_week_nights  adults  ...  \\\n",
       "0                             0                     0       2  ...   \n",
       "1                             0                     0       2  ...   \n",
       "2                             0                     1       1  ...   \n",
       "3                             0                     1       1  ...   \n",
       "4                             0                     2       2  ...   \n",
       "...                         ...                   ...     ...  ...   \n",
       "119385                        2                     5       2  ...   \n",
       "119386                        2                     5       3  ...   \n",
       "119387                        2                     5       2  ...   \n",
       "119388                        2                     5       2  ...   \n",
       "119389                        2                     7       2  ...   \n",
       "\n",
       "        assigned_room_type  booking_changes deposit_type days_in_waiting_list  \\\n",
       "0                        C                3   No Deposit                    0   \n",
       "1                        C                4   No Deposit                    0   \n",
       "2                        C                0   No Deposit                    0   \n",
       "3                        A                0   No Deposit                    0   \n",
       "4                        A                0   No Deposit                    0   \n",
       "...                    ...              ...          ...                  ...   \n",
       "119385                   A                0   No Deposit                    0   \n",
       "119386                   E                0   No Deposit                    0   \n",
       "119387                   D                0   No Deposit                    0   \n",
       "119388                   A                0   No Deposit                    0   \n",
       "119389                   A                0   No Deposit                    0   \n",
       "\n",
       "       customer_type     adr  required_car_parking_spaces  \\\n",
       "0          Transient    0.00                            0   \n",
       "1          Transient    0.00                            0   \n",
       "2          Transient   75.00                            0   \n",
       "3          Transient   75.00                            0   \n",
       "4          Transient   98.00                            0   \n",
       "...              ...     ...                          ...   \n",
       "119385     Transient   96.14                            0   \n",
       "119386     Transient  225.43                            0   \n",
       "119387     Transient  157.71                            0   \n",
       "119388     Transient  104.40                            0   \n",
       "119389     Transient  151.20                            0   \n",
       "\n",
       "        total_of_special_requests  reservation_status reservation_status_date  \n",
       "0                               0           Check-Out              01/07/2015  \n",
       "1                               0           Check-Out              01/07/2015  \n",
       "2                               0           Check-Out              02/07/2015  \n",
       "3                               0           Check-Out              02/07/2015  \n",
       "4                               1           Check-Out              03/07/2015  \n",
       "...                           ...                 ...                     ...  \n",
       "119385                          0           Check-Out              06/09/2017  \n",
       "119386                          2           Check-Out              07/09/2017  \n",
       "119387                          4           Check-Out              07/09/2017  \n",
       "119388                          0           Check-Out              07/09/2017  \n",
       "119389                          2           Check-Out              07/09/2017  \n",
       "\n",
       "[119386 rows x 30 columns]"
      ]
     },
     "execution_count": 12,
     "metadata": {},
     "output_type": "execute_result"
    }
   ],
   "source": [
    "df.loc[ df[\"hotel\"] == class_names[0],\"hotel\"]=0 #resort =0\n",
    "df.loc[ df[\"hotel\"] == class_names[1],\"hotel\"]=1 #city =1\n",
    "df"
   ]
  },
  {
   "cell_type": "markdown",
   "id": "af608d1a",
   "metadata": {},
   "source": [
    "# Lead Time"
   ]
  },
  {
   "cell_type": "code",
   "execution_count": 13,
   "id": "b3d5e69d",
   "metadata": {},
   "outputs": [
    {
     "name": "stdout",
     "output_type": "stream",
     "text": [
      "   lead_time  lead_time_normalized\n",
      "0        342              0.464043\n",
      "1        737              1.000000\n",
      "2          7              0.009498\n",
      "3         13              0.017639\n",
      "4         14              0.018996\n"
     ]
    }
   ],
   "source": [
    "# Create a MinMaxScaler\n",
    "scaler = MinMaxScaler()\n",
    "\n",
    "# Reshape the 'lead_time' column because fit_transform expects a 2D array\n",
    "df['lead_time_normalized'] = scaler.fit_transform(df['lead_time'].values.reshape(-1, 1))\n",
    "\n",
    "# Display the first few rows of the DataFrame with the normalized column\n",
    "print(df[['lead_time', 'lead_time_normalized']].head())\n"
   ]
  },
  {
   "cell_type": "code",
   "execution_count": 14,
   "id": "0f77ba2e",
   "metadata": {},
   "outputs": [],
   "source": [
    "df=df.drop([\"lead_time\"],axis=1) "
   ]
  },
  {
   "cell_type": "markdown",
   "id": "6a9fcb20",
   "metadata": {},
   "source": [
    "# Arrival Date (Year, Month, Day of Month)"
   ]
  },
  {
   "cell_type": "code",
   "execution_count": 15,
   "id": "be5c659f",
   "metadata": {},
   "outputs": [
    {
     "data": {
      "text/plain": [
       "array(['July', 'August', 'September', 'October', 'November', 'December',\n",
       "       'January', 'February', 'March', 'April', 'May', 'June'],\n",
       "      dtype=object)"
      ]
     },
     "execution_count": 15,
     "metadata": {},
     "output_type": "execute_result"
    }
   ],
   "source": [
    "class_names=df[\"arrival_date_month\"].unique()\n",
    "class_names"
   ]
  },
  {
   "cell_type": "code",
   "execution_count": 16,
   "id": "7c6187be",
   "metadata": {},
   "outputs": [],
   "source": [
    "df.loc[ df[\"arrival_date_month\"] == class_names[0],\"arrival_date_month\"]=7 \n",
    "df.loc[ df[\"arrival_date_month\"] == class_names[1],\"arrival_date_month\"]=8\n",
    "df.loc[ df[\"arrival_date_month\"] == class_names[2],\"arrival_date_month\"]=9\n",
    "df.loc[ df[\"arrival_date_month\"] == class_names[3],\"arrival_date_month\"]=10\n",
    "df.loc[ df[\"arrival_date_month\"] == class_names[4],\"arrival_date_month\"]=11\n",
    "df.loc[ df[\"arrival_date_month\"] == class_names[5],\"arrival_date_month\"]=12\n",
    "df.loc[ df[\"arrival_date_month\"] == class_names[6],\"arrival_date_month\"]=1\n",
    "df.loc[ df[\"arrival_date_month\"] == class_names[7],\"arrival_date_month\"]=2\n",
    "df.loc[ df[\"arrival_date_month\"] == class_names[8],\"arrival_date_month\"]=3\n",
    "df.loc[ df[\"arrival_date_month\"] == class_names[9],\"arrival_date_month\"]=4 \n",
    "df.loc[ df[\"arrival_date_month\"] == class_names[10],\"arrival_date_month\"]=5\n",
    "df.loc[ df[\"arrival_date_month\"] == class_names[11],\"arrival_date_month\"]=6 \n",
    "df[\"arrival_date_month\"] = df[\"arrival_date_month\"].astype(int)\n"
   ]
  },
  {
   "cell_type": "code",
   "execution_count": 17,
   "id": "71102474",
   "metadata": {},
   "outputs": [
    {
     "data": {
      "text/plain": [
       "-0.006084131239587312"
      ]
     },
     "execution_count": 17,
     "metadata": {},
     "output_type": "execute_result"
    }
   ],
   "source": [
    "df.corr(method='pearson')['is_canceled'][\"arrival_date_day_of_month\"]\n"
   ]
  },
  {
   "cell_type": "code",
   "execution_count": 18,
   "id": "810816be",
   "metadata": {},
   "outputs": [
    {
     "data": {
      "text/plain": [
       "0.008131990729401564"
      ]
     },
     "execution_count": 18,
     "metadata": {},
     "output_type": "execute_result"
    }
   ],
   "source": [
    "df.corr(method='pearson')['is_canceled'][\"arrival_date_week_number\"]"
   ]
  },
  {
   "cell_type": "code",
   "execution_count": 19,
   "id": "5c6b2c4c",
   "metadata": {},
   "outputs": [],
   "source": [
    "df['arrival_date'] = df['arrival_date_year'].astype(str)+'-'+df['arrival_date_month'].astype(str)+'-'+df['arrival_date_day_of_month'].astype(str)"
   ]
  },
  {
   "cell_type": "code",
   "execution_count": 20,
   "id": "cf42cfb2",
   "metadata": {},
   "outputs": [
    {
     "data": {
      "text/plain": [
       "0          2015-7-1\n",
       "1          2015-7-1\n",
       "2          2015-7-1\n",
       "3          2015-7-1\n",
       "4          2015-7-1\n",
       "            ...    \n",
       "119385    2017-8-30\n",
       "119386    2017-8-31\n",
       "119387    2017-8-31\n",
       "119388    2017-8-31\n",
       "119389    2017-8-29\n",
       "Name: arrival_date, Length: 119386, dtype: object"
      ]
     },
     "execution_count": 20,
     "metadata": {},
     "output_type": "execute_result"
    }
   ],
   "source": [
    "df['arrival_date']"
   ]
  },
  {
   "cell_type": "code",
   "execution_count": 21,
   "id": "8474f0bf",
   "metadata": {},
   "outputs": [],
   "source": [
    "df=df.drop([\"arrival_date_year\"],axis=1) "
   ]
  },
  {
   "cell_type": "code",
   "execution_count": 22,
   "id": "3d30520e",
   "metadata": {},
   "outputs": [],
   "source": [
    "df=df.drop([\"arrival_date_month\"],axis=1) "
   ]
  },
  {
   "cell_type": "code",
   "execution_count": 23,
   "id": "20c1f2cd",
   "metadata": {},
   "outputs": [],
   "source": [
    "df=df.drop([\"arrival_date_day_of_month\"],axis=1) "
   ]
  },
  {
   "cell_type": "code",
   "execution_count": 24,
   "id": "6dba446c",
   "metadata": {},
   "outputs": [],
   "source": [
    "df=df.drop([\"arrival_date_week_number\"],axis=1) "
   ]
  },
  {
   "cell_type": "markdown",
   "id": "b6eea128",
   "metadata": {},
   "source": [
    "# Weekdays & Week nights"
   ]
  },
  {
   "cell_type": "code",
   "execution_count": 25,
   "id": "76a50499",
   "metadata": {},
   "outputs": [],
   "source": [
    "df[\"total_stays\"]=df[\"stays_in_weekend_nights\"]+df[\"stays_in_week_nights\"]"
   ]
  },
  {
   "cell_type": "code",
   "execution_count": 26,
   "id": "52340e31",
   "metadata": {},
   "outputs": [],
   "source": [
    "df=df.drop([\"stays_in_week_nights\"],axis=1) "
   ]
  },
  {
   "cell_type": "code",
   "execution_count": 27,
   "id": "e2cf85de",
   "metadata": {},
   "outputs": [],
   "source": [
    "df=df.drop([\"stays_in_weekend_nights\"],axis=1) "
   ]
  },
  {
   "cell_type": "markdown",
   "id": "bf9beb25",
   "metadata": {},
   "source": [
    "# Adults "
   ]
  },
  {
   "cell_type": "code",
   "execution_count": 28,
   "id": "4cc63dae",
   "metadata": {},
   "outputs": [],
   "source": [
    "df.drop(df[df[\"adults\"]==0].index,inplace=True)"
   ]
  },
  {
   "cell_type": "markdown",
   "id": "af7a0775",
   "metadata": {},
   "source": [
    "# Children & Babies"
   ]
  },
  {
   "cell_type": "code",
   "execution_count": 29,
   "id": "97c58101",
   "metadata": {},
   "outputs": [],
   "source": [
    "df['kids'] = df['children'] + df['babies']\n",
    "df[\"kids\"] = df[\"kids\"].astype(int)"
   ]
  },
  {
   "cell_type": "code",
   "execution_count": 30,
   "id": "1291fa8b",
   "metadata": {},
   "outputs": [],
   "source": [
    "df=df.drop([\"babies\"],axis=1) "
   ]
  },
  {
   "cell_type": "code",
   "execution_count": 31,
   "id": "d456b383",
   "metadata": {},
   "outputs": [],
   "source": [
    "df=df.drop([\"children\"],axis=1) "
   ]
  },
  {
   "cell_type": "markdown",
   "id": "df79ab95",
   "metadata": {},
   "source": [
    "# Meal Type"
   ]
  },
  {
   "cell_type": "code",
   "execution_count": 32,
   "id": "153aaf97",
   "metadata": {},
   "outputs": [],
   "source": [
    "df=df.replace(\"Undefined\",\"SC\")"
   ]
  },
  {
   "cell_type": "code",
   "execution_count": 33,
   "id": "27e7126d",
   "metadata": {},
   "outputs": [],
   "source": [
    "\n",
    "df[\"BB\"] = df['meal'].apply(lambda x: 1 if x == 'BB' else 0) \n",
    "\n",
    "df[\"FB\"] = df['meal'].apply(lambda x: 1 if x == 'FB' else 0)\n",
    "\n",
    "df[\"HB\"] = df['meal'].apply(lambda x: 1 if x == 'HB' else 0)\n",
    "\n",
    "df[\"SC\"] = df['meal'].apply(lambda x: 1 if x == 'SC' else 0)"
   ]
  },
  {
   "cell_type": "code",
   "execution_count": 34,
   "id": "115d4b66",
   "metadata": {},
   "outputs": [],
   "source": [
    "df=df.drop([\"meal\"],axis=1) "
   ]
  },
  {
   "cell_type": "markdown",
   "id": "549640a5",
   "metadata": {},
   "source": [
    "# Country"
   ]
  },
  {
   "cell_type": "code",
   "execution_count": 35,
   "id": "24eda97e",
   "metadata": {},
   "outputs": [],
   "source": [
    "df[\"Portugal\"] = df['country'].apply(lambda x: 1 if x == 'PRT' else 0) #the hotels in this data set are located in Portugal\n",
    "\n",
    "df[\"International\"]=df['country'].apply(lambda x: 0 if x == 'PRT' else 1)"
   ]
  },
  {
   "cell_type": "code",
   "execution_count": 36,
   "id": "5eb0cf86",
   "metadata": {},
   "outputs": [],
   "source": [
    "df=df.drop([\"country\"],axis=1) "
   ]
  },
  {
   "cell_type": "markdown",
   "id": "cbe2f7e7",
   "metadata": {},
   "source": [
    "# Market Segment"
   ]
  },
  {
   "cell_type": "code",
   "execution_count": 37,
   "id": "ae6a6978",
   "metadata": {},
   "outputs": [
    {
     "data": {
      "text/plain": [
       "array(['Direct', 'Corporate', 'Online TA', 'Offline TA/TO',\n",
       "       'Complementary', 'Groups', 'Aviation'], dtype=object)"
      ]
     },
     "execution_count": 37,
     "metadata": {},
     "output_type": "execute_result"
    }
   ],
   "source": [
    "unique_values = df['market_segment'].unique()\n",
    "unique_values"
   ]
  },
  {
   "cell_type": "code",
   "execution_count": 38,
   "id": "d78ba532",
   "metadata": {},
   "outputs": [],
   "source": [
    "\n",
    "df[\"Direct\"] = df['market_segment'].apply(lambda x: 1 if x == 'Direct' else 0) \n",
    "\n",
    "df[\"Corporate\"] = df['market_segment'].apply(lambda x: 1 if x == 'Corporate' else 0)\n",
    "\n",
    "df[\"Online TA\"] = df['market_segment'].apply(lambda x: 1 if x == 'Online TA' else 0)\n",
    "\n",
    "df[\"Offline TA/TO\"] = df['market_segment'].apply(lambda x: 1 if x == 'Offline TA/TO' else 0)\n",
    "\n",
    "df[\"Complementary\"] = df['market_segment'].apply(lambda x: 1 if x == 'Complementary' else 0)\n",
    "\n",
    "df[\"Groups\"] = df['market_segment'].apply(lambda x: 1 if x == 'Groups' else 0)\n",
    "\n",
    "df[\"Aviation\"] = df['market_segment'].apply(lambda x: 1 if x == 'Aviation' else 0)"
   ]
  },
  {
   "cell_type": "code",
   "execution_count": 39,
   "id": "1529224b",
   "metadata": {},
   "outputs": [],
   "source": [
    "df=df.drop([\"market_segment\"],axis=1) "
   ]
  },
  {
   "cell_type": "markdown",
   "id": "fb516222",
   "metadata": {},
   "source": [
    "# Distribution Channel"
   ]
  },
  {
   "cell_type": "code",
   "execution_count": 40,
   "id": "f3eddc8a",
   "metadata": {},
   "outputs": [
    {
     "data": {
      "text/plain": [
       "array(['Direct', 'Corporate', 'TA/TO', 'SC', 'GDS'], dtype=object)"
      ]
     },
     "execution_count": 40,
     "metadata": {},
     "output_type": "execute_result"
    }
   ],
   "source": [
    "unique_values = df['distribution_channel'].unique()\n",
    "unique_values"
   ]
  },
  {
   "cell_type": "code",
   "execution_count": 41,
   "id": "ed410c99",
   "metadata": {},
   "outputs": [],
   "source": [
    "df[\"Dist Direct\"] = df['distribution_channel'].apply(lambda x: 1 if x == 'Direct' else 0)\n",
    "\n",
    "df[\"Dist Corporate\"] = df['distribution_channel'].apply(lambda x: 1 if x == 'Corporate' else 0)\n",
    "\n",
    "df[\"Dist TA/TO\"] = df['distribution_channel'].apply(lambda x: 1 if x == 'TA/TO' else 0)\n",
    "\n",
    "df[\"SC\"] = df['distribution_channel'].apply(lambda x: 1 if x == 'SC' else 0)\n",
    "\n",
    "df[\"GDS\"] = df['distribution_channel'].apply(lambda x: 1 if x == 'GDS' else 0)"
   ]
  },
  {
   "cell_type": "code",
   "execution_count": 42,
   "id": "f4f176d1",
   "metadata": {},
   "outputs": [],
   "source": [
    "df=df.drop([\"distribution_channel\"],axis=1) "
   ]
  },
  {
   "cell_type": "markdown",
   "id": "d250ffae",
   "metadata": {},
   "source": [
    "# Reserved & Assigned Room Type"
   ]
  },
  {
   "cell_type": "code",
   "execution_count": 43,
   "id": "bf6aac5f",
   "metadata": {},
   "outputs": [],
   "source": [
    "class_names = df['assigned_room_type'].unique()"
   ]
  },
  {
   "cell_type": "code",
   "execution_count": 44,
   "id": "ba42c13a",
   "metadata": {},
   "outputs": [],
   "source": [
    "for i in range(len(class_names)):\n",
    "    df.loc[ df['assigned_room_type'] == class_names[i],'assigned_room_type']=i"
   ]
  },
  {
   "cell_type": "code",
   "execution_count": 45,
   "id": "3bdfa2b1",
   "metadata": {},
   "outputs": [],
   "source": [
    "class_names2 = df['reserved_room_type'].unique()"
   ]
  },
  {
   "cell_type": "code",
   "execution_count": 46,
   "id": "656dfe04",
   "metadata": {},
   "outputs": [],
   "source": [
    "for i in range(len(class_names2)):\n",
    "    df.loc[ df['reserved_room_type'] == class_names2[i],'reserved_room_type']=i"
   ]
  },
  {
   "cell_type": "markdown",
   "id": "92b36591",
   "metadata": {},
   "source": [
    "# Deposit Type"
   ]
  },
  {
   "cell_type": "code",
   "execution_count": 47,
   "id": "4c41b15b",
   "metadata": {},
   "outputs": [
    {
     "data": {
      "text/plain": [
       "array(['No Deposit', 'Refundable', 'Non Refund'], dtype=object)"
      ]
     },
     "execution_count": 47,
     "metadata": {},
     "output_type": "execute_result"
    }
   ],
   "source": [
    "unique_values = df['deposit_type'].unique()\n",
    "unique_values"
   ]
  },
  {
   "cell_type": "code",
   "execution_count": 48,
   "id": "da52697c",
   "metadata": {},
   "outputs": [],
   "source": [
    "df[\"No Deposit\"] = df['deposit_type'].apply(lambda x: 1 if x == 'No Deposit' else 0)\n",
    "\n",
    "df[\"Refundable\"] = df['deposit_type'].apply(lambda x: 1 if x == 'Refundable' else 0)\n",
    "\n",
    "df[\"Non Refund\"] = df['deposit_type'].apply(lambda x: 1 if x == 'Non Refund' else 0)"
   ]
  },
  {
   "cell_type": "code",
   "execution_count": 49,
   "id": "ddd32324",
   "metadata": {},
   "outputs": [],
   "source": [
    "df=df.drop([\"deposit_type\"],axis=1) "
   ]
  },
  {
   "cell_type": "markdown",
   "id": "13cf5bda",
   "metadata": {},
   "source": [
    "# Customer Type"
   ]
  },
  {
   "cell_type": "code",
   "execution_count": 50,
   "id": "e3f2acf6",
   "metadata": {},
   "outputs": [
    {
     "data": {
      "text/plain": [
       "array(['Transient', 'Contract', 'Transient-Party', 'Group'], dtype=object)"
      ]
     },
     "execution_count": 50,
     "metadata": {},
     "output_type": "execute_result"
    }
   ],
   "source": [
    "unique_values = df['customer_type'].unique()\n",
    "unique_values"
   ]
  },
  {
   "cell_type": "code",
   "execution_count": 51,
   "id": "056a686f",
   "metadata": {},
   "outputs": [],
   "source": [
    "df[\"Transient\"] = df['customer_type'].apply(lambda x: 1 if x == 'Transient' else 0)\n",
    "\n",
    "df[\"Contract\"] = df['customer_type'].apply(lambda x: 1 if x == 'Contract' else 0)\n",
    "\n",
    "df[\"Transient-Party\"] = df['customer_type'].apply(lambda x: 1 if x == 'Transient-Party' else 0)\n",
    "\n",
    "df[\"Group\"] = df['customer_type'].apply(lambda x: 1 if x == 'Group' else 0)"
   ]
  },
  {
   "cell_type": "code",
   "execution_count": 52,
   "id": "de21519c",
   "metadata": {},
   "outputs": [],
   "source": [
    "df=df.drop([\"customer_type\"],axis=1) "
   ]
  },
  {
   "cell_type": "markdown",
   "id": "f1e4a430",
   "metadata": {},
   "source": [
    "# ADR"
   ]
  },
  {
   "cell_type": "code",
   "execution_count": 53,
   "id": "a6737f58",
   "metadata": {},
   "outputs": [
    {
     "data": {
      "text/html": [
       "<div>\n",
       "<style scoped>\n",
       "    .dataframe tbody tr th:only-of-type {\n",
       "        vertical-align: middle;\n",
       "    }\n",
       "\n",
       "    .dataframe tbody tr th {\n",
       "        vertical-align: top;\n",
       "    }\n",
       "\n",
       "    .dataframe thead th {\n",
       "        text-align: right;\n",
       "    }\n",
       "</style>\n",
       "<table border=\"1\" class=\"dataframe\">\n",
       "  <thead>\n",
       "    <tr style=\"text-align: right;\">\n",
       "      <th></th>\n",
       "      <th>hotel</th>\n",
       "      <th>is_canceled</th>\n",
       "      <th>adults</th>\n",
       "      <th>is_repeated_guest</th>\n",
       "      <th>previous_cancellations</th>\n",
       "      <th>previous_bookings_not_canceled</th>\n",
       "      <th>reserved_room_type</th>\n",
       "      <th>assigned_room_type</th>\n",
       "      <th>booking_changes</th>\n",
       "      <th>days_in_waiting_list</th>\n",
       "      <th>...</th>\n",
       "      <th>Dist Corporate</th>\n",
       "      <th>Dist TA/TO</th>\n",
       "      <th>GDS</th>\n",
       "      <th>No Deposit</th>\n",
       "      <th>Refundable</th>\n",
       "      <th>Non Refund</th>\n",
       "      <th>Transient</th>\n",
       "      <th>Contract</th>\n",
       "      <th>Transient-Party</th>\n",
       "      <th>Group</th>\n",
       "    </tr>\n",
       "  </thead>\n",
       "  <tbody>\n",
       "    <tr>\n",
       "      <th>15083</th>\n",
       "      <td>0</td>\n",
       "      <td>0</td>\n",
       "      <td>2</td>\n",
       "      <td>1</td>\n",
       "      <td>0</td>\n",
       "      <td>1</td>\n",
       "      <td>1</td>\n",
       "      <td>0</td>\n",
       "      <td>0</td>\n",
       "      <td>0</td>\n",
       "      <td>...</td>\n",
       "      <td>1</td>\n",
       "      <td>0</td>\n",
       "      <td>0</td>\n",
       "      <td>1</td>\n",
       "      <td>0</td>\n",
       "      <td>0</td>\n",
       "      <td>1</td>\n",
       "      <td>0</td>\n",
       "      <td>0</td>\n",
       "      <td>0</td>\n",
       "    </tr>\n",
       "    <tr>\n",
       "      <th>48515</th>\n",
       "      <td>1</td>\n",
       "      <td>1</td>\n",
       "      <td>2</td>\n",
       "      <td>0</td>\n",
       "      <td>0</td>\n",
       "      <td>0</td>\n",
       "      <td>1</td>\n",
       "      <td>1</td>\n",
       "      <td>1</td>\n",
       "      <td>0</td>\n",
       "      <td>...</td>\n",
       "      <td>0</td>\n",
       "      <td>1</td>\n",
       "      <td>0</td>\n",
       "      <td>0</td>\n",
       "      <td>0</td>\n",
       "      <td>1</td>\n",
       "      <td>1</td>\n",
       "      <td>0</td>\n",
       "      <td>0</td>\n",
       "      <td>0</td>\n",
       "    </tr>\n",
       "    <tr>\n",
       "      <th>111403</th>\n",
       "      <td>1</td>\n",
       "      <td>0</td>\n",
       "      <td>1</td>\n",
       "      <td>0</td>\n",
       "      <td>0</td>\n",
       "      <td>0</td>\n",
       "      <td>1</td>\n",
       "      <td>4</td>\n",
       "      <td>0</td>\n",
       "      <td>0</td>\n",
       "      <td>...</td>\n",
       "      <td>0</td>\n",
       "      <td>1</td>\n",
       "      <td>0</td>\n",
       "      <td>1</td>\n",
       "      <td>0</td>\n",
       "      <td>0</td>\n",
       "      <td>1</td>\n",
       "      <td>0</td>\n",
       "      <td>0</td>\n",
       "      <td>0</td>\n",
       "    </tr>\n",
       "  </tbody>\n",
       "</table>\n",
       "<p>3 rows × 43 columns</p>\n",
       "</div>"
      ],
      "text/plain": [
       "        hotel  is_canceled  adults  is_repeated_guest  previous_cancellations  \\\n",
       "15083       0            0       2                  1                       0   \n",
       "48515       1            1       2                  0                       0   \n",
       "111403      1            0       1                  0                       0   \n",
       "\n",
       "        previous_bookings_not_canceled reserved_room_type assigned_room_type  \\\n",
       "15083                                1                  1                  0   \n",
       "48515                                0                  1                  1   \n",
       "111403                               0                  1                  4   \n",
       "\n",
       "        booking_changes  days_in_waiting_list  ...  Dist Corporate  \\\n",
       "15083                 0                     0  ...               1   \n",
       "48515                 1                     0  ...               0   \n",
       "111403                0                     0  ...               0   \n",
       "\n",
       "        Dist TA/TO  GDS No Deposit Refundable  Non Refund Transient  Contract  \\\n",
       "15083            0    0          1          0           0         1         0   \n",
       "48515            1    0          0          0           1         1         0   \n",
       "111403           1    0          1          0           0         1         0   \n",
       "\n",
       "        Transient-Party  Group  \n",
       "15083                 0      0  \n",
       "48515                 0      0  \n",
       "111403                0      0  \n",
       "\n",
       "[3 rows x 43 columns]"
      ]
     },
     "execution_count": 53,
     "metadata": {},
     "output_type": "execute_result"
    }
   ],
   "source": [
    "df[df[\"adr\"]>500]"
   ]
  },
  {
   "cell_type": "code",
   "execution_count": 54,
   "id": "6db14468",
   "metadata": {},
   "outputs": [],
   "source": [
    "df[\"adr\"]=df[\"adr\"].replace(5400.0,540)"
   ]
  },
  {
   "cell_type": "markdown",
   "id": "857a96fb",
   "metadata": {},
   "source": [
    "# Reservation Status"
   ]
  },
  {
   "cell_type": "code",
   "execution_count": 55,
   "id": "a61670dd",
   "metadata": {},
   "outputs": [
    {
     "data": {
      "text/plain": [
       "array(['Check-Out', 'Canceled', 'No-Show'], dtype=object)"
      ]
     },
     "execution_count": 55,
     "metadata": {},
     "output_type": "execute_result"
    }
   ],
   "source": [
    "class_names = df['reservation_status'].unique()\n",
    "class_names"
   ]
  },
  {
   "cell_type": "code",
   "execution_count": 56,
   "id": "65abeebd",
   "metadata": {},
   "outputs": [],
   "source": [
    "for i in range(len(class_names)):\n",
    "    df.loc[ df['reservation_status'] == class_names[i],'reservation_status']=i\n",
    "\n",
    "#mapping the \"No-Show\" varaible with the \"Canceled\" variable by setting its label to 1\n",
    "df[\"reservation_status\"]=df[\"reservation_status\"].replace(2,1)"
   ]
  },
  {
   "cell_type": "code",
   "execution_count": 57,
   "id": "64ac4768",
   "metadata": {},
   "outputs": [],
   "source": [
    "df=df.drop([\"reservation_status\"],axis=1) "
   ]
  },
  {
   "cell_type": "markdown",
   "id": "fde77632",
   "metadata": {},
   "source": [
    "# Reservation Date"
   ]
  },
  {
   "cell_type": "code",
   "execution_count": 58,
   "id": "ff7a7f59",
   "metadata": {},
   "outputs": [
    {
     "data": {
      "text/plain": [
       "0        2015-07-01\n",
       "1        2015-07-01\n",
       "2        2015-07-02\n",
       "3        2015-07-02\n",
       "4        2015-07-03\n",
       "            ...    \n",
       "119385   2017-09-06\n",
       "119386   2017-09-07\n",
       "119387   2017-09-07\n",
       "119388   2017-09-07\n",
       "119389   2017-09-07\n",
       "Name: reservation_status_date, Length: 118983, dtype: datetime64[ns]"
      ]
     },
     "execution_count": 58,
     "metadata": {},
     "output_type": "execute_result"
    }
   ],
   "source": [
    "df['reservation_status_date'] = pd.to_datetime(df['reservation_status_date'], format='%d/%m/%Y')\n",
    "df['reservation_status_date']"
   ]
  },
  {
   "cell_type": "markdown",
   "id": "46319935",
   "metadata": {},
   "source": [
    "# New Feature \"Total Guests\""
   ]
  },
  {
   "cell_type": "code",
   "execution_count": 59,
   "id": "f9e0af39",
   "metadata": {},
   "outputs": [],
   "source": [
    "df[\"total_guests\"]=df[\"adults\"]+df[\"kids\"]"
   ]
  },
  {
   "cell_type": "markdown",
   "id": "9baa0328",
   "metadata": {},
   "source": [
    "# Post Data Cleaning"
   ]
  },
  {
   "cell_type": "code",
   "execution_count": 60,
   "id": "bde2dd8f",
   "metadata": {},
   "outputs": [
    {
     "data": {
      "text/plain": [
       "Index(['hotel', 'is_canceled', 'adults', 'is_repeated_guest',\n",
       "       'previous_cancellations', 'previous_bookings_not_canceled',\n",
       "       'reserved_room_type', 'assigned_room_type', 'booking_changes',\n",
       "       'days_in_waiting_list', 'adr', 'required_car_parking_spaces',\n",
       "       'total_of_special_requests', 'reservation_status_date',\n",
       "       'lead_time_normalized', 'arrival_date', 'total_stays', 'kids', 'BB',\n",
       "       'FB', 'HB', 'SC', 'Portugal', 'International', 'Direct', 'Corporate',\n",
       "       'Online TA', 'Offline TA/TO', 'Complementary', 'Groups', 'Aviation',\n",
       "       'Dist Direct', 'Dist Corporate', 'Dist TA/TO', 'GDS', 'No Deposit',\n",
       "       'Refundable', 'Non Refund', 'Transient', 'Contract', 'Transient-Party',\n",
       "       'Group', 'total_guests'],\n",
       "      dtype='object')"
      ]
     },
     "execution_count": 60,
     "metadata": {},
     "output_type": "execute_result"
    }
   ],
   "source": [
    "df.columns"
   ]
  },
  {
   "cell_type": "code",
   "execution_count": 61,
   "id": "3ed6b6c3",
   "metadata": {},
   "outputs": [
    {
     "data": {
      "text/plain": [
       "43"
      ]
     },
     "execution_count": 61,
     "metadata": {},
     "output_type": "execute_result"
    }
   ],
   "source": [
    "num_columns = df.shape[1]\n",
    "num_columns"
   ]
  },
  {
   "cell_type": "code",
   "execution_count": 62,
   "id": "8ba26cfb",
   "metadata": {},
   "outputs": [
    {
     "data": {
      "text/plain": [
       "118983"
      ]
     },
     "execution_count": 62,
     "metadata": {},
     "output_type": "execute_result"
    }
   ],
   "source": [
    "num_observations = len(df)\n",
    "num_observations"
   ]
  },
  {
   "cell_type": "code",
   "execution_count": 63,
   "id": "95662379",
   "metadata": {},
   "outputs": [],
   "source": [
    "\n",
    "df.to_csv('Post-cleaning Data.csv', index=False, mode='w')\n"
   ]
  },
  {
   "cell_type": "code",
   "execution_count": 64,
   "id": "aa82d76d",
   "metadata": {},
   "outputs": [
    {
     "data": {
      "text/html": [
       "<div>\n",
       "<style scoped>\n",
       "    .dataframe tbody tr th:only-of-type {\n",
       "        vertical-align: middle;\n",
       "    }\n",
       "\n",
       "    .dataframe tbody tr th {\n",
       "        vertical-align: top;\n",
       "    }\n",
       "\n",
       "    .dataframe thead th {\n",
       "        text-align: right;\n",
       "    }\n",
       "</style>\n",
       "<table border=\"1\" class=\"dataframe\">\n",
       "  <thead>\n",
       "    <tr style=\"text-align: right;\">\n",
       "      <th></th>\n",
       "      <th>hotel</th>\n",
       "      <th>is_canceled</th>\n",
       "      <th>adults</th>\n",
       "      <th>is_repeated_guest</th>\n",
       "      <th>previous_cancellations</th>\n",
       "      <th>previous_bookings_not_canceled</th>\n",
       "      <th>reserved_room_type</th>\n",
       "      <th>assigned_room_type</th>\n",
       "      <th>booking_changes</th>\n",
       "      <th>days_in_waiting_list</th>\n",
       "      <th>...</th>\n",
       "      <th>Dist TA/TO</th>\n",
       "      <th>GDS</th>\n",
       "      <th>No Deposit</th>\n",
       "      <th>Refundable</th>\n",
       "      <th>Non Refund</th>\n",
       "      <th>Transient</th>\n",
       "      <th>Contract</th>\n",
       "      <th>Transient-Party</th>\n",
       "      <th>Group</th>\n",
       "      <th>total_guests</th>\n",
       "    </tr>\n",
       "  </thead>\n",
       "  <tbody>\n",
       "    <tr>\n",
       "      <th>0</th>\n",
       "      <td>0</td>\n",
       "      <td>0</td>\n",
       "      <td>2</td>\n",
       "      <td>0</td>\n",
       "      <td>0</td>\n",
       "      <td>0</td>\n",
       "      <td>0</td>\n",
       "      <td>0</td>\n",
       "      <td>3</td>\n",
       "      <td>0</td>\n",
       "      <td>...</td>\n",
       "      <td>0</td>\n",
       "      <td>0</td>\n",
       "      <td>1</td>\n",
       "      <td>0</td>\n",
       "      <td>0</td>\n",
       "      <td>1</td>\n",
       "      <td>0</td>\n",
       "      <td>0</td>\n",
       "      <td>0</td>\n",
       "      <td>2</td>\n",
       "    </tr>\n",
       "    <tr>\n",
       "      <th>1</th>\n",
       "      <td>0</td>\n",
       "      <td>0</td>\n",
       "      <td>2</td>\n",
       "      <td>0</td>\n",
       "      <td>0</td>\n",
       "      <td>0</td>\n",
       "      <td>0</td>\n",
       "      <td>0</td>\n",
       "      <td>4</td>\n",
       "      <td>0</td>\n",
       "      <td>...</td>\n",
       "      <td>0</td>\n",
       "      <td>0</td>\n",
       "      <td>1</td>\n",
       "      <td>0</td>\n",
       "      <td>0</td>\n",
       "      <td>1</td>\n",
       "      <td>0</td>\n",
       "      <td>0</td>\n",
       "      <td>0</td>\n",
       "      <td>2</td>\n",
       "    </tr>\n",
       "    <tr>\n",
       "      <th>2</th>\n",
       "      <td>0</td>\n",
       "      <td>0</td>\n",
       "      <td>1</td>\n",
       "      <td>0</td>\n",
       "      <td>0</td>\n",
       "      <td>0</td>\n",
       "      <td>1</td>\n",
       "      <td>0</td>\n",
       "      <td>0</td>\n",
       "      <td>0</td>\n",
       "      <td>...</td>\n",
       "      <td>0</td>\n",
       "      <td>0</td>\n",
       "      <td>1</td>\n",
       "      <td>0</td>\n",
       "      <td>0</td>\n",
       "      <td>1</td>\n",
       "      <td>0</td>\n",
       "      <td>0</td>\n",
       "      <td>0</td>\n",
       "      <td>1</td>\n",
       "    </tr>\n",
       "    <tr>\n",
       "      <th>3</th>\n",
       "      <td>0</td>\n",
       "      <td>0</td>\n",
       "      <td>1</td>\n",
       "      <td>0</td>\n",
       "      <td>0</td>\n",
       "      <td>0</td>\n",
       "      <td>1</td>\n",
       "      <td>1</td>\n",
       "      <td>0</td>\n",
       "      <td>0</td>\n",
       "      <td>...</td>\n",
       "      <td>0</td>\n",
       "      <td>0</td>\n",
       "      <td>1</td>\n",
       "      <td>0</td>\n",
       "      <td>0</td>\n",
       "      <td>1</td>\n",
       "      <td>0</td>\n",
       "      <td>0</td>\n",
       "      <td>0</td>\n",
       "      <td>1</td>\n",
       "    </tr>\n",
       "    <tr>\n",
       "      <th>4</th>\n",
       "      <td>0</td>\n",
       "      <td>0</td>\n",
       "      <td>2</td>\n",
       "      <td>0</td>\n",
       "      <td>0</td>\n",
       "      <td>0</td>\n",
       "      <td>1</td>\n",
       "      <td>1</td>\n",
       "      <td>0</td>\n",
       "      <td>0</td>\n",
       "      <td>...</td>\n",
       "      <td>1</td>\n",
       "      <td>0</td>\n",
       "      <td>1</td>\n",
       "      <td>0</td>\n",
       "      <td>0</td>\n",
       "      <td>1</td>\n",
       "      <td>0</td>\n",
       "      <td>0</td>\n",
       "      <td>0</td>\n",
       "      <td>2</td>\n",
       "    </tr>\n",
       "  </tbody>\n",
       "</table>\n",
       "<p>5 rows × 43 columns</p>\n",
       "</div>"
      ],
      "text/plain": [
       "   hotel  is_canceled  adults  is_repeated_guest  previous_cancellations  \\\n",
       "0      0            0       2                  0                       0   \n",
       "1      0            0       2                  0                       0   \n",
       "2      0            0       1                  0                       0   \n",
       "3      0            0       1                  0                       0   \n",
       "4      0            0       2                  0                       0   \n",
       "\n",
       "   previous_bookings_not_canceled reserved_room_type assigned_room_type  \\\n",
       "0                               0                  0                  0   \n",
       "1                               0                  0                  0   \n",
       "2                               0                  1                  0   \n",
       "3                               0                  1                  1   \n",
       "4                               0                  1                  1   \n",
       "\n",
       "   booking_changes  days_in_waiting_list  ...  Dist TA/TO  GDS  No Deposit  \\\n",
       "0                3                     0  ...           0    0           1   \n",
       "1                4                     0  ...           0    0           1   \n",
       "2                0                     0  ...           0    0           1   \n",
       "3                0                     0  ...           0    0           1   \n",
       "4                0                     0  ...           1    0           1   \n",
       "\n",
       "  Refundable  Non Refund Transient  Contract  Transient-Party  Group  \\\n",
       "0          0           0         1         0                0      0   \n",
       "1          0           0         1         0                0      0   \n",
       "2          0           0         1         0                0      0   \n",
       "3          0           0         1         0                0      0   \n",
       "4          0           0         1         0                0      0   \n",
       "\n",
       "   total_guests  \n",
       "0             2  \n",
       "1             2  \n",
       "2             1  \n",
       "3             1  \n",
       "4             2  \n",
       "\n",
       "[5 rows x 43 columns]"
      ]
     },
     "execution_count": 64,
     "metadata": {},
     "output_type": "execute_result"
    }
   ],
   "source": [
    "df.head()"
   ]
  }
 ],
 "metadata": {
  "kernelspec": {
   "display_name": "Python 3 (ipykernel)",
   "language": "python",
   "name": "python3"
  },
  "language_info": {
   "codemirror_mode": {
    "name": "ipython",
    "version": 3
   },
   "file_extension": ".py",
   "mimetype": "text/x-python",
   "name": "python",
   "nbconvert_exporter": "python",
   "pygments_lexer": "ipython3",
   "version": "3.9.13"
  }
 },
 "nbformat": 4,
 "nbformat_minor": 5
}
